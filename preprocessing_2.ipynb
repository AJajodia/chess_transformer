{
 "cells": [
  {
   "cell_type": "code",
   "execution_count": 1,
   "metadata": {},
   "outputs": [],
   "source": [
    "# imports\n",
    "import pandas as pd\n",
    "import torch\n",
    "from chess import pgn\n",
    "import io\n",
    "import chess\n",
    "from tqdm.notebook import tqdm"
   ]
  },
  {
   "cell_type": "code",
   "execution_count": 2,
   "metadata": {},
   "outputs": [],
   "source": [
    "path = 'C://Users//Anu//Downloads//archive//GM_games_dataset.csv'"
   ]
  },
  {
   "cell_type": "code",
   "execution_count": 3,
   "metadata": {},
   "outputs": [],
   "source": [
    "df = pd.read_csv(path, nrows=80000, usecols=['pgn'])\n"
   ]
  },
  {
   "cell_type": "code",
   "execution_count": 4,
   "metadata": {},
   "outputs": [
    {
     "data": {
      "text/plain": [
       "[1, 2, 3, 4, 5, 6]"
      ]
     },
     "execution_count": 4,
     "metadata": {},
     "output_type": "execute_result"
    }
   ],
   "source": [
    "chess.PIECE_TYPES"
   ]
  },
  {
   "cell_type": "code",
   "execution_count": 5,
   "metadata": {},
   "outputs": [],
   "source": [
    "# d = [king, queen, rook, bishop, knight, pawn, black, white, can_move]\n",
    "\n",
    "def pgn_to_boardrep(game_pgn):\n",
    "    game = pgn.read_game(game_pgn)\n",
    "    moves = game.mainline_moves()\n",
    "    board = chess.Board()\n",
    "    pieces = chess.PIECE_TYPES\n",
    "    states_arr = []\n",
    "    moves_arr = []\n",
    "    \n",
    "    for move in moves:\n",
    "        squares_arr = []\n",
    "        for square in range(64):\n",
    "            square_arr = ([board.piece_type_at(square) if board.piece_type_at(square) else 0] + [int(board.turn == board.color_at(square))])\n",
    "            squares_arr.append(square_arr)\n",
    "            \n",
    "        \n",
    "        moves_arr.append([move.from_square, move.to_square])\n",
    "        \n",
    "        \n",
    "        board.push(move)\n",
    "        \n",
    "        states_arr.append(squares_arr)\n",
    "        \n",
    "    return (torch.tensor(states_arr, device='cpu'), torch.tensor(moves_arr, device='cpu'))"
   ]
  },
  {
   "cell_type": "code",
   "execution_count": 6,
   "metadata": {},
   "outputs": [
    {
     "data": {
      "application/vnd.jupyter.widget-view+json": {
       "model_id": "e5c8392959424fc09657e5924480e193",
       "version_major": 2,
       "version_minor": 0
      },
      "text/plain": [
       "  0%|          | 0/80000 [00:00<?, ?it/s]"
      ]
     },
     "metadata": {},
     "output_type": "display_data"
    }
   ],
   "source": [
    "features = []\n",
    "labels = []\n",
    "games = tqdm(df['pgn'].items(), total=len(df))\n",
    "for game_pgn in games:\n",
    "    features.append(pgn_to_boardrep(io.StringIO(game_pgn[1]))[0])\n",
    "    labels.append(pgn_to_boardrep(io.StringIO(game_pgn[1]))[1])\n"
   ]
  },
  {
   "cell_type": "code",
   "execution_count": 7,
   "metadata": {},
   "outputs": [],
   "source": [
    "features = torch.vstack(features)\n",
    "labels = torch.vstack(labels)"
   ]
  },
  {
   "cell_type": "code",
   "execution_count": 8,
   "metadata": {},
   "outputs": [
    {
     "data": {
      "text/plain": [
       "tensor([[[4, 1],\n",
       "         [2, 1],\n",
       "         [3, 1],\n",
       "         ...,\n",
       "         [3, 0],\n",
       "         [2, 0],\n",
       "         [4, 0]],\n",
       "\n",
       "        [[4, 0],\n",
       "         [2, 0],\n",
       "         [3, 0],\n",
       "         ...,\n",
       "         [3, 1],\n",
       "         [2, 1],\n",
       "         [4, 1]],\n",
       "\n",
       "        [[4, 1],\n",
       "         [2, 1],\n",
       "         [3, 1],\n",
       "         ...,\n",
       "         [3, 0],\n",
       "         [2, 0],\n",
       "         [4, 0]],\n",
       "\n",
       "        ...,\n",
       "\n",
       "        [[0, 0],\n",
       "         [0, 0],\n",
       "         [0, 0],\n",
       "         ...,\n",
       "         [0, 0],\n",
       "         [0, 0],\n",
       "         [0, 0]],\n",
       "\n",
       "        [[0, 0],\n",
       "         [0, 0],\n",
       "         [0, 0],\n",
       "         ...,\n",
       "         [0, 0],\n",
       "         [0, 0],\n",
       "         [0, 0]],\n",
       "\n",
       "        [[0, 0],\n",
       "         [0, 0],\n",
       "         [0, 0],\n",
       "         ...,\n",
       "         [0, 0],\n",
       "         [0, 0],\n",
       "         [0, 0]]])"
      ]
     },
     "execution_count": 8,
     "metadata": {},
     "output_type": "execute_result"
    }
   ],
   "source": [
    "features"
   ]
  },
  {
   "cell_type": "code",
   "execution_count": 9,
   "metadata": {},
   "outputs": [],
   "source": [
    "torch.save({\"features\": features, \"labels\": labels}, 'data/dataset_v2.pt')"
   ]
  },
  {
   "cell_type": "code",
   "execution_count": 10,
   "metadata": {},
   "outputs": [
    {
     "data": {
      "text/plain": [
       "torch.Size([6656432, 64, 2])"
      ]
     },
     "execution_count": 10,
     "metadata": {},
     "output_type": "execute_result"
    }
   ],
   "source": [
    "features.shape"
   ]
  }
 ],
 "metadata": {
  "kernelspec": {
   "display_name": "deep_learning",
   "language": "python",
   "name": "python3"
  },
  "language_info": {
   "codemirror_mode": {
    "name": "ipython",
    "version": 3
   },
   "file_extension": ".py",
   "mimetype": "text/x-python",
   "name": "python",
   "nbconvert_exporter": "python",
   "pygments_lexer": "ipython3",
   "version": "3.12.7"
  }
 },
 "nbformat": 4,
 "nbformat_minor": 2
}
