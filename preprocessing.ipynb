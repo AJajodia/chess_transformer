{
 "cells": [
  {
   "cell_type": "code",
   "execution_count": 29,
   "metadata": {},
   "outputs": [],
   "source": [
    "# imports\n",
    "import pandas as pd\n",
    "import torch\n",
    "from chess import pgn\n",
    "import io\n",
    "import chess\n",
    "from tqdm.notebook import tqdm"
   ]
  },
  {
   "cell_type": "code",
   "execution_count": 30,
   "metadata": {},
   "outputs": [],
   "source": [
    "path = '/Users/anu/Documents/GM_games_dataset.csv'"
   ]
  },
  {
   "cell_type": "code",
   "execution_count": null,
   "metadata": {},
   "outputs": [],
   "source": [
    "df = pd.read_csv(path, nrows=230000, usecols=['pgn'])\n"
   ]
  },
  {
   "cell_type": "code",
   "execution_count": 32,
   "metadata": {},
   "outputs": [],
   "source": [
    "# d = [king, queen, rook, bishop, knight, pawn, black, white, can_move]\n",
    "def pgn_to_boardrep(game_pgn):\n",
    "    game = pgn.read_game(game_pgn)\n",
    "    moves = game.mainline_moves()\n",
    "    board = chess.Board()\n",
    "    pieces = chess.PIECE_TYPES\n",
    "    states_arr = []\n",
    "    moves_arr = []\n",
    "    \n",
    "    for move in moves:\n",
    "        squares_arr = []\n",
    "        for row in range(8):\n",
    "            row_arr = []\n",
    "            for col in range(8):\n",
    "                square = (8 * row) + col\n",
    "                col_arr = ([int(piece == board.piece_type_at(square)) for piece in pieces] + \n",
    "                [int(color == board.color_at(square)) for color in chess.COLORS]) + [int(board.turn == board.color_at(square))]\n",
    "                row_arr.append(col_arr)\n",
    "            squares_arr.append(row_arr)\n",
    "        \n",
    "        moves_arr.append([move.from_square, move.to_square])\n",
    "        \n",
    "        \n",
    "        board.push(move)\n",
    "        \n",
    "        states_arr.append(squares_arr)\n",
    "\n",
    "        \n",
    "    return (torch.Tensor(states_arr, device='cpu'), torch.Tensor(moves_arr, device='cpu'))"
   ]
  },
  {
   "cell_type": "code",
   "execution_count": 33,
   "metadata": {},
   "outputs": [
    {
     "data": {
      "application/vnd.jupyter.widget-view+json": {
       "model_id": "ead2404881c1496898a647eb89f06311",
       "version_major": 2,
       "version_minor": 0
      },
      "text/plain": [
       "  0%|          | 0/20000 [00:00<?, ?it/s]"
      ]
     },
     "metadata": {},
     "output_type": "display_data"
    }
   ],
   "source": [
    "features = torch.Tensor()\n",
    "labels = torch.Tensor()\n",
    "games = tqdm(df['pgn'].items(), total=len(df))\n",
    "for game_pgn in games:\n",
    "    features = torch.cat((features, pgn_to_boardrep(io.StringIO(game_pgn[1]))[0]))\n",
    "    labels = torch.cat((labels, pgn_to_boardrep(io.StringIO(game_pgn[1]))[1]))"
   ]
  },
  {
   "cell_type": "code",
   "execution_count": 34,
   "metadata": {},
   "outputs": [],
   "source": [
    "torch.save((features, labels), 'data/dataset.pt')"
   ]
  },
  {
   "cell_type": "code",
   "execution_count": 41,
   "metadata": {},
   "outputs": [
    {
     "name": "stderr",
     "output_type": "stream",
     "text": [
      "/var/folders/2b/d0h5v9t55gg2wl7c9csv2x280000gn/T/ipykernel_79736/102046578.py:1: FutureWarning: You are using `torch.load` with `weights_only=False` (the current default value), which uses the default pickle module implicitly. It is possible to construct malicious pickle data which will execute arbitrary code during unpickling (See https://github.com/pytorch/pytorch/blob/main/SECURITY.md#untrusted-models for more details). In a future release, the default value for `weights_only` will be flipped to `True`. This limits the functions that could be executed during unpickling. Arbitrary objects will no longer be allowed to be loaded via this mode unless they are explicitly allowlisted by the user via `torch.serialization.add_safe_globals`. We recommend you start setting `weights_only=True` for any use case where you don't have full control of the loaded file. Please open an issue on GitHub for any issues related to this experimental feature.\n",
      "  torch.load('data/dataset.pt')[0][0]\n"
     ]
    },
    {
     "data": {
      "text/plain": [
       "tensor([[[0., 0., 0., 1., 0., 0., 1., 0., 1.],\n",
       "         [0., 1., 0., 0., 0., 0., 1., 0., 1.],\n",
       "         [0., 0., 1., 0., 0., 0., 1., 0., 1.],\n",
       "         [0., 0., 0., 0., 1., 0., 1., 0., 1.],\n",
       "         [0., 0., 0., 0., 0., 1., 1., 0., 1.],\n",
       "         [0., 0., 1., 0., 0., 0., 1., 0., 1.],\n",
       "         [0., 1., 0., 0., 0., 0., 1., 0., 1.],\n",
       "         [0., 0., 0., 1., 0., 0., 1., 0., 1.]],\n",
       "\n",
       "        [[1., 0., 0., 0., 0., 0., 1., 0., 1.],\n",
       "         [1., 0., 0., 0., 0., 0., 1., 0., 1.],\n",
       "         [1., 0., 0., 0., 0., 0., 1., 0., 1.],\n",
       "         [1., 0., 0., 0., 0., 0., 1., 0., 1.],\n",
       "         [1., 0., 0., 0., 0., 0., 1., 0., 1.],\n",
       "         [1., 0., 0., 0., 0., 0., 1., 0., 1.],\n",
       "         [1., 0., 0., 0., 0., 0., 1., 0., 1.],\n",
       "         [1., 0., 0., 0., 0., 0., 1., 0., 1.]],\n",
       "\n",
       "        [[0., 0., 0., 0., 0., 0., 0., 0., 0.],\n",
       "         [0., 0., 0., 0., 0., 0., 0., 0., 0.],\n",
       "         [0., 0., 0., 0., 0., 0., 0., 0., 0.],\n",
       "         [0., 0., 0., 0., 0., 0., 0., 0., 0.],\n",
       "         [0., 0., 0., 0., 0., 0., 0., 0., 0.],\n",
       "         [0., 0., 0., 0., 0., 0., 0., 0., 0.],\n",
       "         [0., 0., 0., 0., 0., 0., 0., 0., 0.],\n",
       "         [0., 0., 0., 0., 0., 0., 0., 0., 0.]],\n",
       "\n",
       "        [[0., 0., 0., 0., 0., 0., 0., 0., 0.],\n",
       "         [0., 0., 0., 0., 0., 0., 0., 0., 0.],\n",
       "         [0., 0., 0., 0., 0., 0., 0., 0., 0.],\n",
       "         [0., 0., 0., 0., 0., 0., 0., 0., 0.],\n",
       "         [0., 0., 0., 0., 0., 0., 0., 0., 0.],\n",
       "         [0., 0., 0., 0., 0., 0., 0., 0., 0.],\n",
       "         [0., 0., 0., 0., 0., 0., 0., 0., 0.],\n",
       "         [0., 0., 0., 0., 0., 0., 0., 0., 0.]],\n",
       "\n",
       "        [[0., 0., 0., 0., 0., 0., 0., 0., 0.],\n",
       "         [0., 0., 0., 0., 0., 0., 0., 0., 0.],\n",
       "         [0., 0., 0., 0., 0., 0., 0., 0., 0.],\n",
       "         [0., 0., 0., 0., 0., 0., 0., 0., 0.],\n",
       "         [0., 0., 0., 0., 0., 0., 0., 0., 0.],\n",
       "         [0., 0., 0., 0., 0., 0., 0., 0., 0.],\n",
       "         [0., 0., 0., 0., 0., 0., 0., 0., 0.],\n",
       "         [0., 0., 0., 0., 0., 0., 0., 0., 0.]],\n",
       "\n",
       "        [[0., 0., 0., 0., 0., 0., 0., 0., 0.],\n",
       "         [0., 0., 0., 0., 0., 0., 0., 0., 0.],\n",
       "         [0., 0., 0., 0., 0., 0., 0., 0., 0.],\n",
       "         [0., 0., 0., 0., 0., 0., 0., 0., 0.],\n",
       "         [0., 0., 0., 0., 0., 0., 0., 0., 0.],\n",
       "         [0., 0., 0., 0., 0., 0., 0., 0., 0.],\n",
       "         [0., 0., 0., 0., 0., 0., 0., 0., 0.],\n",
       "         [0., 0., 0., 0., 0., 0., 0., 0., 0.]],\n",
       "\n",
       "        [[1., 0., 0., 0., 0., 0., 0., 1., 0.],\n",
       "         [1., 0., 0., 0., 0., 0., 0., 1., 0.],\n",
       "         [1., 0., 0., 0., 0., 0., 0., 1., 0.],\n",
       "         [1., 0., 0., 0., 0., 0., 0., 1., 0.],\n",
       "         [1., 0., 0., 0., 0., 0., 0., 1., 0.],\n",
       "         [1., 0., 0., 0., 0., 0., 0., 1., 0.],\n",
       "         [1., 0., 0., 0., 0., 0., 0., 1., 0.],\n",
       "         [1., 0., 0., 0., 0., 0., 0., 1., 0.]],\n",
       "\n",
       "        [[0., 0., 0., 1., 0., 0., 0., 1., 0.],\n",
       "         [0., 1., 0., 0., 0., 0., 0., 1., 0.],\n",
       "         [0., 0., 1., 0., 0., 0., 0., 1., 0.],\n",
       "         [0., 0., 0., 0., 1., 0., 0., 1., 0.],\n",
       "         [0., 0., 0., 0., 0., 1., 0., 1., 0.],\n",
       "         [0., 0., 1., 0., 0., 0., 0., 1., 0.],\n",
       "         [0., 1., 0., 0., 0., 0., 0., 1., 0.],\n",
       "         [0., 0., 0., 1., 0., 0., 0., 1., 0.]]])"
      ]
     },
     "execution_count": 41,
     "metadata": {},
     "output_type": "execute_result"
    }
   ],
   "source": [
    "torch.load('data/dataset.pt')[0][0]"
   ]
  }
 ],
 "metadata": {
  "kernelspec": {
   "display_name": "deep_learning",
   "language": "python",
   "name": "python3"
  },
  "language_info": {
   "codemirror_mode": {
    "name": "ipython",
    "version": 3
   },
   "file_extension": ".py",
   "mimetype": "text/x-python",
   "name": "python",
   "nbconvert_exporter": "python",
   "pygments_lexer": "ipython3",
   "version": "3.12.2"
  }
 },
 "nbformat": 4,
 "nbformat_minor": 2
}
