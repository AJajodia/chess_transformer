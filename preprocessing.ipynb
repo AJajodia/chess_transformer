{
 "cells": [
  {
   "cell_type": "code",
   "execution_count": 17,
   "metadata": {},
   "outputs": [],
   "source": [
    "# imports\n",
    "import pandas as pd\n",
    "import torch\n",
    "from chess import pgn\n",
    "import io\n",
    "import chess\n",
    "from tqdm.notebook import tqdm"
   ]
  },
  {
   "cell_type": "code",
   "execution_count": 18,
   "metadata": {},
   "outputs": [],
   "source": [
    "path = '/Users/anu/Documents/GM_games_dataset.csv'"
   ]
  },
  {
   "cell_type": "code",
   "execution_count": 19,
   "metadata": {},
   "outputs": [],
   "source": [
    "df = pd.read_csv(path, nrows=10000, usecols=['pgn'])\n"
   ]
  },
  {
   "cell_type": "code",
   "execution_count": 20,
   "metadata": {},
   "outputs": [],
   "source": [
    "# d = [king, queen, rook, bishop, knight, pawn, black, white, can_move]\n",
    "def pgn_to_boardrep(game_pgn):\n",
    "    game = pgn.read_game(game_pgn)\n",
    "    moves = game.mainline_moves()\n",
    "    board = chess.Board()\n",
    "    pieces = chess.PIECE_TYPES\n",
    "    states_arr = []\n",
    "    moves_arr = []\n",
    "    \n",
    "    for move in moves:\n",
    "        squares_arr = []\n",
    "        for square in range(64):\n",
    "            square_arr = ([int(piece == board.piece_type_at(square)) for piece in pieces] + \n",
    "            [int(color == board.color_at(square)) for color in chess.COLORS]) + [int(board.turn == board.color_at(square))]\n",
    "            squares_arr.append(square_arr)\n",
    "        \n",
    "        moves_arr.append([move.from_square, move.to_square])\n",
    "        \n",
    "        board.push(move)\n",
    "        \n",
    "        states_arr.append(squares_arr)\n",
    "\n",
    "        \n",
    "    return (torch.Tensor(states_arr, device='cpu'), torch.Tensor(moves_arr, device='cpu'))"
   ]
  },
  {
   "cell_type": "code",
   "execution_count": 21,
   "metadata": {},
   "outputs": [
    {
     "data": {
      "application/vnd.jupyter.widget-view+json": {
       "model_id": "9bc2daf311ea43c280dfae4340a19469",
       "version_major": 2,
       "version_minor": 0
      },
      "text/plain": [
       "  0%|          | 0/10000 [00:00<?, ?it/s]"
      ]
     },
     "metadata": {},
     "output_type": "display_data"
    },
    {
     "ename": "KeyboardInterrupt",
     "evalue": "",
     "output_type": "error",
     "traceback": [
      "\u001b[0;31m---------------------------------------------------------------------------\u001b[0m",
      "\u001b[0;31mKeyboardInterrupt\u001b[0m                         Traceback (most recent call last)",
      "Cell \u001b[0;32mIn[21], line 4\u001b[0m\n\u001b[1;32m      2\u001b[0m games \u001b[38;5;241m=\u001b[39m tqdm(df[\u001b[38;5;124m'\u001b[39m\u001b[38;5;124mpgn\u001b[39m\u001b[38;5;124m'\u001b[39m]\u001b[38;5;241m.\u001b[39mitems(), total\u001b[38;5;241m=\u001b[39m\u001b[38;5;241m10000\u001b[39m)\n\u001b[1;32m      3\u001b[0m \u001b[38;5;28;01mfor\u001b[39;00m game_pgn \u001b[38;5;129;01min\u001b[39;00m games:\n\u001b[0;32m----> 4\u001b[0m     features \u001b[38;5;241m=\u001b[39m torch\u001b[38;5;241m.\u001b[39mcat((features, \u001b[43mpgn_to_boardrep\u001b[49m\u001b[43m(\u001b[49m\u001b[43mio\u001b[49m\u001b[38;5;241;43m.\u001b[39;49m\u001b[43mStringIO\u001b[49m\u001b[43m(\u001b[49m\u001b[43mgame_pgn\u001b[49m\u001b[43m[\u001b[49m\u001b[38;5;241;43m1\u001b[39;49m\u001b[43m]\u001b[49m\u001b[43m)\u001b[49m\u001b[43m)\u001b[49m[\u001b[38;5;241m0\u001b[39m]))\n",
      "Cell \u001b[0;32mIn[20], line 13\u001b[0m, in \u001b[0;36mpgn_to_boardrep\u001b[0;34m(game_pgn)\u001b[0m\n\u001b[1;32m     11\u001b[0m squares_arr \u001b[38;5;241m=\u001b[39m []\n\u001b[1;32m     12\u001b[0m \u001b[38;5;28;01mfor\u001b[39;00m square \u001b[38;5;129;01min\u001b[39;00m \u001b[38;5;28mrange\u001b[39m(\u001b[38;5;241m64\u001b[39m):\n\u001b[0;32m---> 13\u001b[0m     square_arr \u001b[38;5;241m=\u001b[39m ([\u001b[38;5;28;43mint\u001b[39;49m\u001b[43m(\u001b[49m\u001b[43mpiece\u001b[49m\u001b[43m \u001b[49m\u001b[38;5;241;43m==\u001b[39;49m\u001b[43m \u001b[49m\u001b[43mboard\u001b[49m\u001b[38;5;241;43m.\u001b[39;49m\u001b[43mpiece_type_at\u001b[49m\u001b[43m(\u001b[49m\u001b[43msquare\u001b[49m\u001b[43m)\u001b[49m\u001b[43m)\u001b[49m \u001b[38;5;28;01mfor\u001b[39;00m piece \u001b[38;5;129;01min\u001b[39;00m pieces] \u001b[38;5;241m+\u001b[39m \n\u001b[1;32m     14\u001b[0m     [\u001b[38;5;28mint\u001b[39m(color \u001b[38;5;241m==\u001b[39m board\u001b[38;5;241m.\u001b[39mcolor_at(square)) \u001b[38;5;28;01mfor\u001b[39;00m color \u001b[38;5;129;01min\u001b[39;00m chess\u001b[38;5;241m.\u001b[39mCOLORS]) \u001b[38;5;241m+\u001b[39m [\u001b[38;5;28mint\u001b[39m(board\u001b[38;5;241m.\u001b[39mturn \u001b[38;5;241m==\u001b[39m board\u001b[38;5;241m.\u001b[39mcolor_at(square))]\n\u001b[1;32m     15\u001b[0m     squares_arr\u001b[38;5;241m.\u001b[39mappend(square_arr)\n\u001b[1;32m     17\u001b[0m moves_arr\u001b[38;5;241m.\u001b[39mappend([move\u001b[38;5;241m.\u001b[39mfrom_square, move\u001b[38;5;241m.\u001b[39mto_square])\n",
      "\u001b[0;31mKeyboardInterrupt\u001b[0m: "
     ]
    }
   ],
   "source": [
    "features = torch.Tensor()\n",
    "games = tqdm(df['pgn'].items(), total=10000)\n",
    "for game_pgn in games:\n",
    "    features = torch.cat((features, pgn_to_boardrep(io.StringIO(game_pgn[1]))[0]))"
   ]
  },
  {
   "cell_type": "code",
   "execution_count": null,
   "metadata": {},
   "outputs": [],
   "source": [
    "features"
   ]
  }
 ],
 "metadata": {
  "kernelspec": {
   "display_name": "deep_learning",
   "language": "python",
   "name": "python3"
  },
  "language_info": {
   "codemirror_mode": {
    "name": "ipython",
    "version": 3
   },
   "file_extension": ".py",
   "mimetype": "text/x-python",
   "name": "python",
   "nbconvert_exporter": "python",
   "pygments_lexer": "ipython3",
   "version": "3.12.2"
  }
 },
 "nbformat": 4,
 "nbformat_minor": 2
}
