{
 "cells": [
  {
   "cell_type": "code",
   "execution_count": 8,
   "metadata": {},
   "outputs": [],
   "source": [
    "# imports\n",
    "import pandas as pd\n",
    "import torch\n",
    "from chess import pgn\n",
    "import io\n",
    "import chess\n",
    "from tqdm.notebook import tqdm"
   ]
  },
  {
   "cell_type": "code",
   "execution_count": 9,
   "metadata": {},
   "outputs": [],
   "source": [
    "path = '/Users/anu/Documents/GM_games_dataset.csv'"
   ]
  },
  {
   "cell_type": "code",
   "execution_count": 10,
   "metadata": {},
   "outputs": [],
   "source": [
    "df = pd.read_csv(path, nrows=100, usecols=['pgn'])\n"
   ]
  },
  {
   "cell_type": "code",
   "execution_count": null,
   "metadata": {},
   "outputs": [],
   "source": [
    "# d = [king, queen, rook, bishop, knight, pawn, black, white, can_move]\n",
    "def pgn_to_boardrep(game_pgn):\n",
    "    game = pgn.read_game(game_pgn)\n",
    "    moves = game.mainline_moves()\n",
    "    board = chess.Board()\n",
    "    pieces = chess.PIECE_TYPES\n",
    "    states_arr = []\n",
    "    moves_arr = []\n",
    "    \n",
    "    for move in moves:\n",
    "        squares_arr = []\n",
    "        for row in range(8):\n",
    "            row_arr = []\n",
    "            for col in range(8):\n",
    "                square = (8 * row) + col\n",
    "                col_arr = ([int(piece == board.piece_type_at(square)) for piece in pieces] + [int(board.turn == board.color_at(square))])\n",
    "                row_arr.append(col_arr)\n",
    "            squares_arr.append(row_arr)\n",
    "        \n",
    "        moves_arr.append([move.from_square, move.to_square])\n",
    "        \n",
    "        \n",
    "        board.push(move)\n",
    "        \n",
    "        states_arr.append(squares_arr)\n",
    "\n",
    "        \n",
    "    return (torch.Tensor(states_arr, device='cpu'), torch.Tensor(moves_arr, device='cpu'))"
   ]
  },
  {
   "cell_type": "code",
   "execution_count": 12,
   "metadata": {},
   "outputs": [
    {
     "data": {
      "application/vnd.jupyter.widget-view+json": {
       "model_id": "2d6d45f4273d459ea783dc7b69be2342",
       "version_major": 2,
       "version_minor": 0
      },
      "text/plain": [
       "  0%|          | 0/100 [00:00<?, ?it/s]"
      ]
     },
     "metadata": {},
     "output_type": "display_data"
    }
   ],
   "source": [
    "features = torch.Tensor()\n",
    "labels = torch.Tensor()\n",
    "games = tqdm(df['pgn'].items(), total=len(df))\n",
    "for game_pgn in games:\n",
    "    features = torch.cat((features, pgn_to_boardrep(io.StringIO(game_pgn[1]))[0]))\n",
    "    labels = torch.cat((labels, pgn_to_boardrep(io.StringIO(game_pgn[1]))[1]))"
   ]
  },
  {
   "cell_type": "code",
   "execution_count": 13,
   "metadata": {},
   "outputs": [],
   "source": [
    "torch.save((features, labels), 'data/sample_dataset.pt')"
   ]
  },
  {
   "cell_type": "code",
   "execution_count": 14,
   "metadata": {},
   "outputs": [
    {
     "data": {
      "text/plain": [
       "torch.Size([7481, 8, 8, 9])"
      ]
     },
     "execution_count": 14,
     "metadata": {},
     "output_type": "execute_result"
    }
   ],
   "source": [
    "features.shape"
   ]
  }
 ],
 "metadata": {
  "kernelspec": {
   "display_name": "deep_learning",
   "language": "python",
   "name": "python3"
  },
  "language_info": {
   "codemirror_mode": {
    "name": "ipython",
    "version": 3
   },
   "file_extension": ".py",
   "mimetype": "text/x-python",
   "name": "python",
   "nbconvert_exporter": "python",
   "pygments_lexer": "ipython3",
   "version": "3.12.2"
  }
 },
 "nbformat": 4,
 "nbformat_minor": 2
}
