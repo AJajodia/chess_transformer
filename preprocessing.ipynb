{
 "cells": [
  {
   "cell_type": "code",
   "execution_count": 16,
   "metadata": {},
   "outputs": [],
   "source": [
    "# imports\n",
    "import pandas as pd\n",
    "import torch\n",
    "from chess import pgn\n",
    "import io\n",
    "import chess\n",
    "from tqdm.notebook import tqdm"
   ]
  },
  {
   "cell_type": "code",
   "execution_count": 17,
   "metadata": {},
   "outputs": [],
   "source": [
    "path = '/Users/anu/Documents/GM_games_dataset.csv'"
   ]
  },
  {
   "cell_type": "code",
   "execution_count": 18,
   "metadata": {},
   "outputs": [],
   "source": [
    "df = pd.read_csv(path, nrows=100, usecols=['pgn'])\n"
   ]
  },
  {
   "cell_type": "code",
   "execution_count": 19,
   "metadata": {},
   "outputs": [],
   "source": [
    "# d = [king, queen, rook, bishop, knight, pawn, black, white, can_move]\n",
    "def pgn_to_boardrep(game_pgn):\n",
    "    game = pgn.read_game(game_pgn)\n",
    "    moves = game.mainline_moves()\n",
    "    board = chess.Board()\n",
    "    pieces = chess.PIECE_TYPES\n",
    "    states_arr = []\n",
    "    moves_arr = []\n",
    "    \n",
    "    for move in moves:\n",
    "        squares_arr = []\n",
    "        for square in range(64):\n",
    "            square_arr = ([int(piece == board.piece_type_at(square)) for piece in pieces] + \n",
    "            [int(color == board.color_at(square)) for color in chess.COLORS]) + [int(board.turn == board.color_at(square))]\n",
    "            squares_arr.append(square_arr)\n",
    "        \n",
    "        moves_arr.append([move.from_square, move.to_square])\n",
    "        \n",
    "        board.push(move)\n",
    "        \n",
    "        states_arr.append(squares_arr)\n",
    "\n",
    "        \n",
    "    return (torch.Tensor(states_arr, device='cpu'), torch.Tensor(moves_arr, device='cpu'))"
   ]
  },
  {
   "cell_type": "code",
   "execution_count": 20,
   "metadata": {},
   "outputs": [
    {
     "data": {
      "application/vnd.jupyter.widget-view+json": {
       "model_id": "d2ec1d1bd19f48ffb9f6c33f42c39c67",
       "version_major": 2,
       "version_minor": 0
      },
      "text/plain": [
       "  0%|          | 0/100 [00:00<?, ?it/s]"
      ]
     },
     "metadata": {},
     "output_type": "display_data"
    }
   ],
   "source": [
    "features = torch.Tensor()\n",
    "games = tqdm(df['pgn'].items(), total=100)\n",
    "for game_pgn in games:\n",
    "    features = torch.cat((features, pgn_to_boardrep(io.StringIO(game_pgn[1]))[0]))"
   ]
  },
  {
   "cell_type": "code",
   "execution_count": 21,
   "metadata": {},
   "outputs": [
    {
     "data": {
      "text/plain": [
       "torch.Size([7481, 64, 9])"
      ]
     },
     "execution_count": 21,
     "metadata": {},
     "output_type": "execute_result"
    }
   ],
   "source": [
    "features.shape"
   ]
  }
 ],
 "metadata": {
  "kernelspec": {
   "display_name": "deep_learning",
   "language": "python",
   "name": "python3"
  },
  "language_info": {
   "codemirror_mode": {
    "name": "ipython",
    "version": 3
   },
   "file_extension": ".py",
   "mimetype": "text/x-python",
   "name": "python",
   "nbconvert_exporter": "python",
   "pygments_lexer": "ipython3",
   "version": "3.12.2"
  }
 },
 "nbformat": 4,
 "nbformat_minor": 2
}
