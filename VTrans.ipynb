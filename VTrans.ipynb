{
 "cells": [
  {
   "cell_type": "code",
   "execution_count": 202,
   "metadata": {},
   "outputs": [],
   "source": [
    "import datasets\n",
    "import transformers\n",
    "import torch\n",
    "import torch.nn.functional as F\n",
    "\n",
    "from tqdm import tqdm, trange\n",
    "from torch.optim import Adam\n",
    "from torch.nn import CrossEntropyLoss\n",
    "from torch.utils.data import DataLoader, TensorDataset\n",
    "\n",
    "from torchvision.transforms import ToTensor\n",
    "\n",
    "from datasets import load_dataset\n",
    "from sklearn.model_selection import train_test_split\n",
    "import torch.nn as nn\n",
    "\n",
    "from collections import defaultdict\n",
    "from collections.abc import (\n",
    "    Callable,\n",
    "    Iterable\n",
    ")\n",
    "import numpy as np\n",
    "\n",
    "from util_110724 import (\n",
    "    to_ensembled\n",
    ")"
   ]
  },
  {
   "cell_type": "code",
   "execution_count": 203,
   "metadata": {},
   "outputs": [],
   "source": [
    "config = {\n",
    "    \"seed\": 0, \n",
    "    \"device\": \"mps\", \n",
    "    \"features_dtype\": torch.float32,\n",
    "    \"ensemble_shape\": (3,5), \n",
    "    \"n_patches\": [2, 4, 8],  # 3 values for n_patches\n",
    "    \"hidden_layer_dim\": [12, 15, 18, 21, 24], # 5 values for hidden layer dimensions ( they are all divisible by 3 = n_head\n",
    "    \"n_heads\": 3\n",
    "}"
   ]
  },
  {
   "cell_type": "code",
   "execution_count": 204,
   "metadata": {},
   "outputs": [
    {
     "data": {
      "text/plain": [
       "<torch._C.Generator at 0x168c221b0>"
      ]
     },
     "execution_count": 204,
     "metadata": {},
     "output_type": "execute_result"
    }
   ],
   "source": [
    "torch.manual_seed(config[\"seed\"])"
   ]
  },
  {
   "cell_type": "code",
   "execution_count": 205,
   "metadata": {},
   "outputs": [
    {
     "name": "stderr",
     "output_type": "stream",
     "text": [
      "/var/folders/dh/k6ll1txd3319rq_4r88v0gfm0000gn/T/ipykernel_82222/1535093496.py:1: FutureWarning: You are using `torch.load` with `weights_only=False` (the current default value), which uses the default pickle module implicitly. It is possible to construct malicious pickle data which will execute arbitrary code during unpickling (See https://github.com/pytorch/pytorch/blob/main/SECURITY.md#untrusted-models for more details). In a future release, the default value for `weights_only` will be flipped to `True`. This limits the functions that could be executed during unpickling. Arbitrary objects will no longer be allowed to be loaded via this mode unless they are explicitly allowlisted by the user via `torch.serialization.add_safe_globals`. We recommend you start setting `weights_only=True` for any use case where you don't have full control of the loaded file. Please open an issue on GitHub for any issues related to this experimental feature.\n",
      "  chess_features, chess_labels = torch.load('data/sample_dataset.pt')\n"
     ]
    }
   ],
   "source": [
    "chess_features, chess_labels = torch.load('data/sample_dataset.pt')"
   ]
  },
  {
   "cell_type": "code",
   "execution_count": 206,
   "metadata": {},
   "outputs": [],
   "source": [
    "features_train, features_valid, labels_train, labels_valid = train_test_split(\n",
    "    chess_features, chess_labels, test_size=0.2, random_state=42\n",
    ")"
   ]
  },
  {
   "cell_type": "code",
   "execution_count": 207,
   "metadata": {},
   "outputs": [],
   "source": [
    "# We can write a function to check the number of classification classes a set of board games have\n",
    "def get_out_d(lables): \n",
    "    unique_pairs = torch.unique(lables, dim=0)  # Find unique rows\n",
    "    num_unique_pairs = unique_pairs.size(0)\n",
    "\n",
    "    return num_unique_pairs\n"
   ]
  },
  {
   "cell_type": "code",
   "execution_count": 208,
   "metadata": {},
   "outputs": [],
   "source": [
    "#patching the images\n",
    "def patchify(images, n_patches):\n",
    "    '''\n",
    "    n is the number of images, \n",
    "    c is the number of channels, in our case it will be 9, \n",
    "    h is the height of the image and w is the width of the image, both be 8 in our case\n",
    "    '''\n",
    "    n, h, w, c = images.shape \n",
    "\n",
    "    assert h == w, \"Patchify method is implemented for square images only\"\n",
    "    \n",
    "    patches = torch.zeros(n, n_patches ** 2, h * w * c// n_patches ** 2, device=\"mps\")\n",
    "    patch_size = h // n_patches\n",
    "\n",
    "    for idx, image in enumerate(images):\n",
    "        for i in range(n_patches):\n",
    "            for j in range(n_patches):\n",
    "                patch = image[i * patch_size: (i + 1) * patch_size, j * patch_size: (j + 1) * patch_size, :]\n",
    "                patches[idx, i * n_patches + j] = patch.flatten()\n",
    "    return patches"
   ]
  },
  {
   "cell_type": "code",
   "execution_count": 209,
   "metadata": {},
   "outputs": [],
   "source": [
    "#getting positional embeddings for each token. Here we used sin cos function (work by Vaswani et).\n",
    "def get_positional_embeddings(sequence_length, d):\n",
    "    result = torch.ones(sequence_length, d, device=\"mps\")\n",
    "    for i in range(sequence_length):\n",
    "        for j in range(d):\n",
    "            result[i][j] = np.sin(i / (10000 ** (j / d))) if j % 2 == 0 else np.cos(i / (10000 ** ((j - 1) / d)))\n",
    "    return result"
   ]
  },
  {
   "cell_type": "markdown",
   "metadata": {},
   "source": [
    "Idea for two move: encode can_move element of d vector to 0 (restricting movement to only piece selected)"
   ]
  },
  {
   "cell_type": "markdown",
   "metadata": {},
   "source": [
    "class PreViT(nn.Module):\n",
    "  \"Here we have initialization of the model and patching\"\n",
    "  def __init__(self, chw=(9, 8, 8), n_patches=4, hidden_layer_dim = 18):\n",
    "    # Super constructor\n",
    "    super(PreViT, self).__init__()\n",
    "\n",
    "    # Attributes\n",
    "    self.chw = chw # (C, H, W)\n",
    "    self.n_patches = n_patches\n",
    "    self.hidden_layer_dim = hidden_layer_dim\n",
    "\n",
    "    assert chw[1] % n_patches == 0, \"Input shape not entirely divisible by number of patches\"\n",
    "    assert chw[2] % n_patches == 0, \"Input shape not entirely divisible by number of patches\"\n",
    "    \n",
    "    self.patch_size = (chw[1] / n_patches, chw[2] / n_patches)\n",
    "    \n",
    "    # mapping to a linear vector\n",
    "    self.input_vector_dim = int(chw[0] * self.patch_size[0] * self.patch_size[1])\n",
    "    self.linear_mapper = nn.Linear(self.input_vector_dim, self.hidden_layer_dim)\n",
    "    \n",
    "    # create a classification token\n",
    "    self.class_token = nn.Parameter(torch.rand(1, self.hidden_layer_dim))\n",
    "    \n",
    "    \n",
    "  def forward(self, images):\n",
    "    patches = patchify(images, self.n_patches)\n",
    "    tokens = self.linear_mapper(patches)\n",
    "    \n",
    "    tokens = torch.stack([torch.vstack((self.class_token, tokens[i])) for i in range(len(tokens))])\n",
    "    \n",
    "    return tokens"
   ]
  },
  {
   "cell_type": "markdown",
   "metadata": {},
   "source": [
    "We have two hyperparameters for processing the data, \"n_patches\" and \"hidden_layer_dimension\", we will attempt to try different combinations of them using ensemble. "
   ]
  },
  {
   "cell_type": "code",
   "execution_count": 210,
   "metadata": {},
   "outputs": [],
   "source": [
    "class PreViT(nn.Module):\n",
    "  \"Here we have initialization of the model and patching\"\n",
    "  def __init__(self, chw=(9, 8, 8), config = None):\n",
    "    # Super constructor\n",
    "    super(PreViT, self).__init__()\n",
    "\n",
    "    assert config is not None, \"Config must provide ensemble shape, n_patches, and hidden_layer_dim\"\n",
    "    # Attributes\n",
    "    self.chw = chw # (C, H, W)\n",
    "    self.ensemble_shape = config[\"ensemble_shape\"]\n",
    "    self.n_patches_values = config[\"n_patches\"]  # List of 3 values for n_patches\n",
    "    self.hidden_layer_dims = config[\"hidden_layer_dim\"]\n",
    "\n",
    "    assert len(self.n_patches_values) == self.ensemble_shape[0], \"n_patches must have 3 values\"\n",
    "    assert len(self.hidden_layer_dims) == self.ensemble_shape[1], \"hidden_layer_dim must have 5 values\"\n",
    "\n",
    "    for n_patches in self.n_patches_values:\n",
    "      assert chw[1] % n_patches == 0, f\"Height {chw[1]} is not divisible by n_patches={n_patches}\"\n",
    "      assert chw[2] % n_patches == 0, f\"Width {chw[2]} is not divisible by n_patches={n_patches}\"\n",
    "    \n",
    "    self.patch_size = (chw[1] / n_patches, chw[2] / n_patches)\n",
    "\n",
    "    # Patching and Linear Mapping (to a vector of hidden_dim) \"Tokenize\"\n",
    "    self.linear_mappers = nn.ModuleList([\n",
    "            nn.ModuleList([\n",
    "                nn.Linear(\n",
    "                    int(chw[0] * (chw[1] / n_patches) * (chw[2] / n_patches)), hidden_dim\n",
    "                )\n",
    "                for hidden_dim in self.hidden_layer_dims\n",
    "            ])\n",
    "            for n_patches in self.n_patches_values\n",
    "        ])\n",
    "    \n",
    "    # Add the special token for the start of each block\n",
    "    self.class_tokens = nn.ParameterList([\n",
    "            nn.ParameterList([\n",
    "                nn.Parameter(torch.rand(1, hidden_dim))\n",
    "                for hidden_dim in self.hidden_layer_dims\n",
    "            ])\n",
    "            for _ in self.n_patches_values\n",
    "        ])\n",
    "    \n",
    "    # Add Positional Embeddings \n",
    "    self.pos_embeddings = nn.ParameterList([\n",
    "    nn.ParameterList([\n",
    "        nn.Parameter(\n",
    "            torch.tensor(get_positional_embeddings(n_patches ** 2 + 1, hidden_dim))\n",
    "        )\n",
    "        for hidden_dim in self.hidden_layer_dims\n",
    "    ])\n",
    "    for n_patches in self.n_patches_values\n",
    "])\n",
    "    # Make sure that the Positional Embeddings are not learnable. \n",
    "    for param_list in self.pos_embeddings:\n",
    "        for param in param_list:\n",
    "            param.requires_grad = False\n",
    "    \n",
    "  def forward(self, images, ensemble_idx):\n",
    "        \"\"\"\n",
    "            images: Input images of shape (# of games, C, H, W)\n",
    "            ensemble_idx: A tuple (n_patches_idx, hidden_layer_dim_idx) indicating which ensemble configuration to use\n",
    "        \"\"\"\n",
    "        n_patches_idx, hidden_layer_dim_idx = ensemble_idx\n",
    "        n = images.shape[0]\n",
    "\n",
    "        # Select the configuration\n",
    "        n_patches = self.n_patches_values[n_patches_idx]\n",
    "        linear_mapper = self.linear_mappers[n_patches_idx][hidden_layer_dim_idx]\n",
    "        class_token = self.class_tokens[n_patches_idx][hidden_layer_dim_idx]\n",
    "        pos_embedding = self.pos_embeddings[n_patches_idx][hidden_layer_dim_idx]\n",
    "\n",
    "        # Patching the inputs\n",
    "        patches = patchify(images, n_patches)  \n",
    "\n",
    "        # Apply the linear mapper to the patches\n",
    "        tokens = linear_mapper(patches)\n",
    "\n",
    "        # Add the classification token\n",
    "        tokens = torch.stack([torch.vstack((class_token, tokens[i])) for i in range(len(tokens))])\n",
    "\n",
    "        # Add Positional Embeddings\n",
    "        positional_embed = pos_embedding.repeat(n, 1, 1)\n",
    "        out = tokens + positional_embed\n",
    "        return out"
   ]
  },
  {
   "cell_type": "code",
   "execution_count": 211,
   "metadata": {},
   "outputs": [],
   "source": [
    "# #Layer Normalziation which allows different hyperparameters to be applied per ensemble dimension or configuration. \n",
    "# class LayerNorm(nn.Module):\n",
    "#     def __init__(\n",
    "#         self,\n",
    "#         config: dict,\n",
    "#         normalized_shape: int | tuple[int],\n",
    "#         bias=True,\n",
    "#         elementwise_affine=True,\n",
    "#         epsilon=1e-5,\n",
    "#         normalized_offset=0\n",
    "#     ):\n",
    "#         super().__init__()\n",
    "\n",
    "#         if hasattr(normalized_shape, \"__int__\"):\n",
    "#             self.normalized_shape = (normalized_shape,)\n",
    "#         else:\n",
    "#             self.normalized_shape = normalized_shape\n",
    "\n",
    "#         self.ensemble_shape = config[\"ensemble_shape\"]\n",
    "#         self.epsilon = epsilon\n",
    "#         self.normalized_offset = normalized_offset\n",
    "\n",
    "#         if elementwise_affine:\n",
    "#             self.scale = torch.nn.Parameter(torch.ones(\n",
    "#                 self.ensemble_shape + self.normalized_shape + (1,) * normalized_offset,\n",
    "#                 device=config[\"device\"],\n",
    "#                 dtype=config[\"features_dtype\"]\n",
    "#             ))\n",
    "#             if bias:\n",
    "#                 self.bias = torch.nn.Parameter(torch.zeros_like(self.scale))\n",
    "#             else:\n",
    "#                 self.bias = None\n",
    "\n",
    "#         else:\n",
    "#             self.bias, self.scale = None, None\n",
    "\n",
    "\n",
    "#     def forward(self, features: dict) -> dict:\n",
    "\n",
    "#         ensemble_dim = len(self.ensemble_shape)\n",
    "#         features = to_ensembled(self.ensemble_shape, features)\n",
    "\n",
    "#         normalized_dim = len(self.normalized_shape)\n",
    "\n",
    "#         batch_dim = len(features.shape) - ensemble_dim - normalized_dim - self.normalized_offset\n",
    "#         normalized_range = tuple(range(\n",
    "#             ensemble_dim,\n",
    "#             ensemble_dim + batch_dim\n",
    "#         )) + tuple(range(\n",
    "#             -normalized_dim - self.normalized_offset,\n",
    "#             -self.normalized_offset\n",
    "#         ))\n",
    "\n",
    "#         features = features - features.mean(dim=normalized_range, keepdim=True)\n",
    "#         features = features / features.std(dim=normalized_range, keepdim=True)\n",
    "\n",
    "#         if self.scale is not None:\n",
    "#             scale = self.scale.unflatten(\n",
    "#                 ensemble_dim,\n",
    "#                 (1,) * batch_dim + self.normalized_shape[:1]\n",
    "#             )\n",
    "\n",
    "#             features = features * scale\n",
    "\n",
    "#             if self.bias is not None:\n",
    "#                 bias = self.bias.unflatten(\n",
    "#                     ensemble_dim,\n",
    "#                     (1,) * batch_dim + self.normalized_shape[:1]\n",
    "#                 )\n",
    "#                 features = features + bias\n",
    "\n",
    "#         return features"
   ]
  },
  {
   "cell_type": "code",
   "execution_count": 212,
   "metadata": {},
   "outputs": [],
   "source": [
    "# Here we apply multi-head self-attention to the treated tokens (input here has shape (N, 17, 18 = d))\n",
    "class MyMSA(nn.Module):\n",
    "    def __init__(self, config = None):\n",
    "        super(MyMSA, self).__init__()\n",
    "\n",
    "        assert config is not None, \"Config dictionary must be provided\"\n",
    "\n",
    "        self.ensemble_shape = config[\"ensemble_shape\"] \n",
    "        self.hidden_layer_dims = config[\"hidden_layer_dim\"]\n",
    "        self.n_heads = config[\"n_heads\"]\n",
    "\n",
    "        # Assert that every hidden_layer_dim is divisible by n_heads\n",
    "        for hidden_dim in self.hidden_layer_dims:\n",
    "            assert hidden_dim % self.n_heads == 0, f\"Can't divide dimension {hidden_dim} into {self.n_heads} heads\"\n",
    "\n",
    "        self.ensemble_shape = config[\"ensemble_shape\"]\n",
    "\n",
    "            \n",
    "        #creating que, key, and value mappings.\n",
    "        self.q_mappings = nn.ModuleList([\n",
    "            nn.ModuleList([nn.Linear(int(self.hidden_layer_dims[i] / self.n_heads), int(self.hidden_layer_dims[i] / self.n_heads)) for _ in range(self.n_heads)])\n",
    "            for i in range(self.ensemble_shape[1])  # Create a separate set of heads per ensemble\n",
    "        ])\n",
    "\n",
    "        self.k_mappings = nn.ModuleList([\n",
    "            nn.ModuleList([nn.Linear(int(self.hidden_layer_dims[i] / self.n_heads), int(self.hidden_layer_dims[i] / self.n_heads)) for _ in range(self.n_heads)])\n",
    "            for i in range(self.ensemble_shape[1])  # Create a separate set of heads per ensemble\n",
    "        ])\n",
    "\n",
    "        self.v_mappings = nn.ModuleList([\n",
    "            nn.ModuleList([nn.Linear(int(self.hidden_layer_dims[i] / self.n_heads), int(self.hidden_layer_dims[i] / self.n_heads)) for _ in range(self.n_heads)])\n",
    "            for i in range(self.ensemble_shape[1])  # Create a separate set of heads per ensemble\n",
    "        ])\n",
    "\n",
    "        self.softmax = nn.Softmax(dim=-1)\n",
    "\n",
    "    def forward(self, sequences, ensemble_idx):\n",
    "        # Sequences has shape (N, seq_length, token_dim)\n",
    "        # Ensemble_idx has shape tuple (n_patches_idx, hidden_layer_dim_idx)\n",
    "        # We go into shape    (N, seq_length, n_heads, token_dim / n_heads)\n",
    "        # And come back to    (N, seq_length, item_dim)  (through concatenation)\n",
    "        n_patches_idx, hidden_layer_dim_idx = ensemble_idx\n",
    "\n",
    "        self.d_head = int(self.hidden_layer_dims[hidden_layer_dim_idx] / self.n_heads)\n",
    "\n",
    "        result = []\n",
    "        q_mapping_idx = self.q_mappings[hidden_layer_dim_idx]\n",
    "        k_mapping_idx = self.k_mappings[hidden_layer_dim_idx]\n",
    "        v_mapping_idx = self.v_mappings[hidden_layer_dim_idx]\n",
    "        for sequence in sequences:\n",
    "            seq_result = []\n",
    "            for head in range(self.n_heads):\n",
    "                q_mapping = q_mapping_idx[head]\n",
    "                k_mapping = k_mapping_idx[head]\n",
    "                v_mapping = v_mapping_idx[head]\n",
    "\n",
    "                seq = sequence[:, head * self.d_head: (head + 1) * self.d_head]\n",
    "                q, k, v = q_mapping(seq), k_mapping(seq), v_mapping(seq)\n",
    "\n",
    "                attention = self.softmax(q @ k.T / (self.d_head ** 0.5))\n",
    "                seq_result.append(attention @ v)\n",
    "            result.append(torch.hstack(seq_result))\n",
    "        return torch.cat([torch.unsqueeze(r, dim=0) for r in result])\n"
   ]
  },
  {
   "cell_type": "code",
   "execution_count": 213,
   "metadata": {},
   "outputs": [],
   "source": [
    "class MyViTBlock(nn.Module):\n",
    "    def __init__(self, mlp_ratio=4, config = None):\n",
    "        super(MyViTBlock, self).__init__()\n",
    "\n",
    "        assert config is not None, \"Config dictionary must be provided\"\n",
    "        \n",
    "        self.hidden_layer_dims = config[\"hidden_layer_dim\"]\n",
    "        self.n_heads = config[\"n_heads\"]\n",
    "        self.n_patches = config[\"n_patches\"]\n",
    "        self.ensemble_shape = config[\"ensemble_shape\"]\n",
    "\n",
    "        self.norm1 = nn.ModuleList([\n",
    "            nn.LayerNorm(hidden_dim)\n",
    "            for hidden_dim in self.hidden_layer_dims\n",
    "        ])\n",
    "        self.mhsa = MyMSA(config)\n",
    "        self.norm2 = nn.ModuleList([\n",
    "            nn.LayerNorm(hidden_dim)\n",
    "            for hidden_dim in self.hidden_layer_dims\n",
    "        ])\n",
    "        self.mlp = nn.ModuleList([\n",
    "                nn.Sequential(\n",
    "                    nn.Linear(hidden_dim, mlp_ratio* hidden_dim),  # MLP ratio fixed at 4\n",
    "                    nn.GELU(),\n",
    "                    nn.Linear(4 * hidden_dim, hidden_dim)\n",
    "                )\n",
    "            for hidden_dim in self.hidden_layer_dims\n",
    "        ])\n",
    "\n",
    "    def forward(self, x, ensemble_idx):\n",
    "        n_patches_idx, hidden_layer_dim_idx = ensemble_idx\n",
    "        norm1 = self.norm1[hidden_layer_dim_idx]\n",
    "        norm2 = self.norm2[hidden_layer_dim_idx]\n",
    "        mlp = self.mlp[hidden_layer_dim_idx]\n",
    "        \n",
    "        # Apply LayerNorm\n",
    "        x_norm1 = norm1(x)\n",
    "\n",
    "        # Multi-Head Self-Attention\n",
    "        x_mhsa = self.mhsa(x_norm1, ensemble_idx)\n",
    "        \n",
    "        # Residual connection\n",
    "        out = x + x_mhsa\n",
    "\n",
    "        # Apply second LayerNorm\n",
    "        x_norm2 = norm2(out)\n",
    "\n",
    "        # Apply MLP\n",
    "        x_mlp = mlp(x_norm2)\n",
    "\n",
    "        # Second residual connection\n",
    "        out = out + x_mlp\n",
    "        return out"
   ]
  },
  {
   "cell_type": "code",
   "execution_count": 214,
   "metadata": {},
   "outputs": [],
   "source": [
    "n_blocks = 3"
   ]
  },
  {
   "cell_type": "markdown",
   "metadata": {},
   "source": [
    "Having several heads per layer is similar to having several kernels in convolution.\n",
    "\n",
    "Having several heads per layer allows one model to try out several pathways at once."
   ]
  },
  {
   "cell_type": "code",
   "execution_count": 215,
   "metadata": {},
   "outputs": [],
   "source": [
    "# n_blocks is the number of transformer blocks that this model want to include. here we will train with 3 blocks. \n",
    "\n",
    "class MyViT(nn.Module):\n",
    "    def __init__(self, chw, config, ensemble_idx, labels, n_blocks=3, n_heads=3):\n",
    "        # Super constructor\n",
    "        super(MyViT, self).__init__()\n",
    "        \n",
    "        # Attributes\n",
    "        self.chw = chw # ( C , H , W )\n",
    "        self.config = config\n",
    "        self.ensemble_idx = ensemble_idx\n",
    "        self.n_blocks = n_blocks\n",
    "        self.n_heads = n_heads\n",
    "        self.hidden_layer_dims = config[\"hidden_layer_dim\"]\n",
    "\n",
    "        n_patches_idx, hidden_layer_dim_idx = ensemble_idx\n",
    "\n",
    "        # Retrieve hidden_dim based on the ensemble configuration\n",
    "        self.hidden_d = self.hidden_layer_dims[hidden_layer_dim_idx]\n",
    "\n",
    "        # Dynamically determine the number of output classes\n",
    "        self.out_d = get_out_d(labels)\n",
    "        \n",
    "        # 1) PreViT: Prepare Data (Tokenization, Positional Embeddings, and Classification Token)\n",
    "        self.previt = PreViT(chw=chw, config=config)\n",
    "        \n",
    "        # 2) Transformer Encoder Blocks\n",
    "        self.blocks = nn.ModuleList([\n",
    "            MyViTBlock(config = config) for _ in range(n_blocks)\n",
    "        ])\n",
    "        \n",
    "        # 3) Classification MLP\n",
    "        self.mlp = nn.Sequential(\n",
    "            nn.Linear(self.hidden_d, self.out_d),\n",
    "            nn.Softmax(dim=-1)\n",
    "        )\n",
    "\n",
    "    def forward(self, images):\n",
    "        \"\"\"\n",
    "        Args:\n",
    "            images: Input tensor of shape (batch_size, C, H, W)\n",
    "        \"\"\"\n",
    "        # PreViT: Tokenize input and add positional embeddings\n",
    "        tokens = self.previt(images, self.ensemble_idx)\n",
    "        \n",
    "        # Transformer Blocks: Process the tokens\n",
    "        for block in self.blocks:\n",
    "            tokens = block(tokens, self.ensemble_idx)\n",
    "\n",
    "        # Classification Token: Take the first token\n",
    "        cls_token = tokens[:, 0]\n",
    "        \n",
    "        return self.mlp(cls_token) # Map to output dimension, output category distribution"
   ]
  },
  {
   "cell_type": "code",
   "execution_count": 216,
   "metadata": {},
   "outputs": [],
   "source": [
    "# # Initialize the MyViT models\n",
    "# config = {\n",
    "#     \"seed\": 0, \n",
    "#     \"device\": \"mps\", \n",
    "#     \"features_dtype\": torch.float32,\n",
    "#     \"hidden_layer_dim\" : 18, \n",
    "#     \"ensemble_shape\": (3,5), \n",
    "#     \"n_patches\": [2, 4, 8],  # 3 values for n_patches\n",
    "#     \"hidden_layer_dim\": [12, 15, 18, 21, 24], # 5 values for hidden layer dimensions ( they are all divisible by 3 = n_head\n",
    "#     \"n_heads\": 3\n",
    "# }\n",
    "# ensemble_idx = (1,2)\n",
    "# chw = (9,8,8)\n",
    "# model = MyViT(chw=chw, ensemble_idx=ensemble_idx, labels=labels_train, n_blocks=3, n_heads=3, config = config)\n",
    "\n",
    "# # Forward pass\n",
    "# output = model(features_train)"
   ]
  },
  {
   "cell_type": "code",
   "execution_count": 217,
   "metadata": {},
   "outputs": [],
   "source": [
    "# config = {\n",
    "#     \"seed\": 0, \n",
    "#     \"device\": \"mps\", \n",
    "#     \"features_dtype\": torch.float32,\n",
    "#     \"ensemble_shape\": (3,5), \n",
    "#     \"n_patches\": [2, 4, 8],  # 3 values for n_patches\n",
    "#     \"hidden_layer_dim\": [12, 15, 30, 21, 24], # 5 values for hidden layer dimensions ( they are all divisible by 3 = n_head\n",
    "#     \"n_heads\": 3\n",
    "# }\n",
    "# # Iterate over all combinations of the ensemble configurations\n",
    "# for n_patches_idx in range(config[\"ensemble_shape\"][0]):  \n",
    "#     for hidden_layer_dim_idx in range(config[\"ensemble_shape\"][1]):  \n",
    "#         # Define ensemble index\n",
    "#         ensemble_idx = (n_patches_idx, hidden_layer_dim_idx)\n",
    "#         chw = (9, 8, 8)\n",
    "#         # Initialize the model for the current ensemble configuration\n",
    "#         model = MyViT(\n",
    "#             chw=chw,\n",
    "#             config=config,\n",
    "#             ensemble_idx=ensemble_idx,\n",
    "#             labels=labels_train,\n",
    "#             n_blocks=3,\n",
    "#             n_heads=3\n",
    "#         )\n",
    "        \n",
    "#         # Forward pass\n",
    "#         output = model(features_train)\n",
    "#         print(output.shape)"
   ]
  },
  {
   "cell_type": "code",
   "execution_count": 218,
   "metadata": {},
   "outputs": [],
   "source": [
    "def main():\n",
    "    # Loading data\n",
    "    config = {\n",
    "        \"seed\": 0, \n",
    "        \"device\": \"mps\", \n",
    "        \"features_dtype\": torch.float32,\n",
    "        \"ensemble_shape\": (3,5), \n",
    "        \"n_patches\": [2, 4, 8],  # 3 values for n_patches\n",
    "        \"hidden_layer_dim\": [12, 15, 18, 21, 24], # 5 values for hidden layer dimensions ( they are all divisible by 3 = n_head\n",
    "        \"n_heads\": 3}\n",
    "\n",
    "    chess_features, chess_labels = torch.load('data/sample_dataset.pt')\n",
    "\n",
    "    features_train, features_valid, labels_train, labels_valid = train_test_split(\n",
    "    chess_features, chess_labels, test_size=0.2, random_state=42)\n",
    "\n",
    "    train_dataset = TensorDataset(features_train, labels_train)\n",
    "    # train_loader = DataLoader(train_dataset, batch_size=128, shuffle=True)\n",
    "\n",
    "    valid_dataset = TensorDataset(features_valid, labels_valid)\n",
    "    # valid_loader = DataLoader(valid_dataset, batch_size=128, shuffle=False)\n",
    "    # Defining model and training options\n",
    "            \n",
    "    device = config[\"device\"]\n",
    "    N_EPOCHS = 5\n",
    "    LR = 0.005\n",
    "    # Here I want to find the best model out of the 15 models \n",
    "    best_model = None\n",
    "    best_loss = float('inf')\n",
    "\n",
    "    # Training loop\n",
    "    for n_patches_idx in range(config[\"ensemble_shape\"][0]):  \n",
    "        for hidden_layer_dim_idx in range(config[\"ensemble_shape\"][1]):  \n",
    "            ensemble_idx = (n_patches_idx, hidden_layer_dim_idx)\n",
    "            chw = (9, 8, 8)\n",
    "\n",
    "            model = MyViT(\n",
    "            chw=chw,\n",
    "            config=config,\n",
    "            ensemble_idx=ensemble_idx,\n",
    "            labels=labels_train,\n",
    "            n_blocks=3,\n",
    "            n_heads=3).to(device)\n",
    "            optimizer = Adam(model.parameters(), lr=LR)\n",
    "            criterion = CrossEntropyLoss()\n",
    "            for epoch in trange(N_EPOCHS, desc=\"Training\"):\n",
    "                train_loss = 0.0\n",
    "                model.train()\n",
    "                # for batch in tqdm(train_loader, desc=f\"Epoch {epoch + 1} in training\", leave=False):\n",
    "                x = features_train.to(device)\n",
    "                y = labels_train.to(device)\n",
    "                y_hat = model(x)\n",
    "                base = 100\n",
    "                y_1dim = y[:, 0] * base + y[:, 1]       \n",
    "                loss = criterion(y_hat, y_1dim)\n",
    "\n",
    "                train_loss += loss.detach().cpu().item() / len(features_train)\n",
    "\n",
    "                optimizer.zero_grad()\n",
    "                loss.backward()\n",
    "                optimizer.step()\n",
    "\n",
    "                print(f\"Epoch {epoch + 1}/{N_EPOCHS} loss: {train_loss:.2f}\")\n",
    "\n",
    "\n",
    "\n",
    "                 # Validation phase\n",
    "                val_loss = 0.0\n",
    "                model.eval()\n",
    "                with torch.no_grad():\n",
    "                    # for batch in valid_loader:\n",
    "                    x = features_valid.to(device)\n",
    "                    y = labels_valid.to(device)\n",
    "                    y_hat = model(x)\n",
    "                    base = 100\n",
    "                    y_1dim = y[:, 0] * base + y[:, 1]       \n",
    "                    loss = criterion(y_hat, y_1dim)\n",
    "\n",
    "                    val_loss += loss.item() / len(features_valid)\n",
    "\n",
    "                    print(f\"Validation Loss for model {ensemble_idx}: {val_loss:.2f}\")\n",
    "\n",
    "                # Check if this model is the best\n",
    "                if val_loss < best_loss:\n",
    "                    best_loss = val_loss\n",
    "                    best_model_state = model.state_dict()  # Save model state\n",
    "                    best_ensemble_idx = ensemble_idx  # Optionally track the configuration\n",
    "\n",
    "    print(f\"Best model is from ensemble configuration with validation loss: {best_loss:.2f}\")\n",
    "    best_model = MyViT(\n",
    "    chw=(9,8,8),\n",
    "    config=config,\n",
    "    ensemble_idx=best_ensemble_idx,\n",
    "    labels=labels_train,\n",
    "    n_blocks=3,\n",
    "    n_heads=3).to(device)\n",
    "    best_model.load_state_dict(best_model_state)\n",
    "    # Test loop (Run the best model on the validation dataset)\n",
    "    best_model.eval()\n",
    "    val_loss = 0.0\n",
    "    correct = 0\n",
    "    total = 0\n",
    "\n",
    "    with torch.no_grad():\n",
    "        # for batch in valid_loader:\n",
    "        x = features_valid.to(device)\n",
    "        y = labels_valid.to(device)\n",
    "        y_hat = best_model(x)\n",
    "        base = 100\n",
    "        y_1dim = y[:, 0] * base + y[:, 1]       \n",
    "        loss = criterion(y_hat, y_1dim)\n",
    "        val_loss += loss.item() / len(features_valid)\n",
    "\n",
    "            # Accuracy\n",
    "        _, predicted = torch.max(y_hat, 1) #finding the best class\n",
    "        correct += (predicted == y_1dim).sum().item()\n",
    "        total += y.size(0)\n",
    "    print(f\"Best Model Validation Loss: {val_loss:.2f}\")\n",
    "    print(f\"Best Model Validation Accuracy: {100 * correct / total:.2f}%\")"
   ]
  },
  {
   "cell_type": "code",
   "execution_count": null,
   "metadata": {},
   "outputs": [
    {
     "name": "stderr",
     "output_type": "stream",
     "text": [
      "/var/folders/dh/k6ll1txd3319rq_4r88v0gfm0000gn/T/ipykernel_82222/1147131432.py:12: FutureWarning: You are using `torch.load` with `weights_only=False` (the current default value), which uses the default pickle module implicitly. It is possible to construct malicious pickle data which will execute arbitrary code during unpickling (See https://github.com/pytorch/pytorch/blob/main/SECURITY.md#untrusted-models for more details). In a future release, the default value for `weights_only` will be flipped to `True`. This limits the functions that could be executed during unpickling. Arbitrary objects will no longer be allowed to be loaded via this mode unless they are explicitly allowlisted by the user via `torch.serialization.add_safe_globals`. We recommend you start setting `weights_only=True` for any use case where you don't have full control of the loaded file. Please open an issue on GitHub for any issues related to this experimental feature.\n",
      "  chess_features, chess_labels = torch.load('data/sample_dataset.pt')\n",
      "/var/folders/dh/k6ll1txd3319rq_4r88v0gfm0000gn/T/ipykernel_82222/1946074777.py:47: UserWarning: To copy construct from a tensor, it is recommended to use sourceTensor.clone().detach() or sourceTensor.clone().detach().requires_grad_(True), rather than torch.tensor(sourceTensor).\n",
      "  torch.tensor(get_positional_embeddings(n_patches ** 2 + 1, hidden_dim))\n",
      "Training:   0%|          | 0/5 [00:00<?, ?it/s]"
     ]
    },
    {
     "name": "stdout",
     "output_type": "stream",
     "text": [
      "Epoch 1/5 loss: 0.00\n"
     ]
    },
    {
     "name": "stderr",
     "output_type": "stream",
     "text": [
      "Training:  20%|██        | 1/5 [00:43<02:52, 43.10s/it]"
     ]
    },
    {
     "name": "stdout",
     "output_type": "stream",
     "text": [
      "Validation Loss for model (0, 0): 0.00\n",
      "Epoch 2/5 loss: 0.00\n"
     ]
    },
    {
     "name": "stderr",
     "output_type": "stream",
     "text": [
      "Training:  40%|████      | 2/5 [01:26<02:10, 43.38s/it]"
     ]
    },
    {
     "name": "stdout",
     "output_type": "stream",
     "text": [
      "Validation Loss for model (0, 0): 0.00\n",
      "Epoch 3/5 loss: 0.00\n"
     ]
    },
    {
     "name": "stderr",
     "output_type": "stream",
     "text": [
      "Training:  60%|██████    | 3/5 [02:10<01:27, 43.53s/it]"
     ]
    },
    {
     "name": "stdout",
     "output_type": "stream",
     "text": [
      "Validation Loss for model (0, 0): 0.00\n",
      "Epoch 4/5 loss: 0.00\n"
     ]
    },
    {
     "name": "stderr",
     "output_type": "stream",
     "text": [
      "Training:  80%|████████  | 4/5 [02:54<00:43, 43.58s/it]"
     ]
    },
    {
     "name": "stdout",
     "output_type": "stream",
     "text": [
      "Validation Loss for model (0, 0): 0.00\n",
      "Epoch 5/5 loss: 0.00\n"
     ]
    },
    {
     "name": "stderr",
     "output_type": "stream",
     "text": [
      "Training: 100%|██████████| 5/5 [03:37<00:00, 43.54s/it]"
     ]
    },
    {
     "name": "stdout",
     "output_type": "stream",
     "text": [
      "Validation Loss for model (0, 0): 0.00\n"
     ]
    },
    {
     "name": "stderr",
     "output_type": "stream",
     "text": [
      "\n",
      "Training:   0%|          | 0/5 [00:00<?, ?it/s]"
     ]
    },
    {
     "name": "stdout",
     "output_type": "stream",
     "text": [
      "Epoch 1/5 loss: 0.00\n"
     ]
    },
    {
     "name": "stderr",
     "output_type": "stream",
     "text": [
      "Training:  20%|██        | 1/5 [00:44<02:59, 44.88s/it]"
     ]
    },
    {
     "name": "stdout",
     "output_type": "stream",
     "text": [
      "Validation Loss for model (0, 1): 0.00\n",
      "Epoch 2/5 loss: 0.00\n"
     ]
    },
    {
     "name": "stderr",
     "output_type": "stream",
     "text": [
      "Training:  40%|████      | 2/5 [01:28<02:13, 44.36s/it]"
     ]
    },
    {
     "name": "stdout",
     "output_type": "stream",
     "text": [
      "Validation Loss for model (0, 1): 0.00\n",
      "Epoch 3/5 loss: 0.00\n"
     ]
    },
    {
     "name": "stderr",
     "output_type": "stream",
     "text": [
      "Training:  60%|██████    | 3/5 [02:13<01:28, 44.26s/it]"
     ]
    },
    {
     "name": "stdout",
     "output_type": "stream",
     "text": [
      "Validation Loss for model (0, 1): 0.00\n",
      "Epoch 4/5 loss: 0.00\n"
     ]
    },
    {
     "name": "stderr",
     "output_type": "stream",
     "text": [
      "Training:  80%|████████  | 4/5 [02:56<00:44, 44.10s/it]"
     ]
    },
    {
     "name": "stdout",
     "output_type": "stream",
     "text": [
      "Validation Loss for model (0, 1): 0.00\n",
      "Epoch 5/5 loss: 0.00\n"
     ]
    },
    {
     "name": "stderr",
     "output_type": "stream",
     "text": [
      "Training: 100%|██████████| 5/5 [03:40<00:00, 44.17s/it]"
     ]
    },
    {
     "name": "stdout",
     "output_type": "stream",
     "text": [
      "Validation Loss for model (0, 1): 0.00\n"
     ]
    },
    {
     "name": "stderr",
     "output_type": "stream",
     "text": [
      "\n",
      "Training:   0%|          | 0/5 [00:00<?, ?it/s]"
     ]
    },
    {
     "name": "stdout",
     "output_type": "stream",
     "text": [
      "Epoch 1/5 loss: 0.00\n"
     ]
    },
    {
     "name": "stderr",
     "output_type": "stream",
     "text": [
      "Training:  20%|██        | 1/5 [00:44<02:59, 44.95s/it]"
     ]
    },
    {
     "name": "stdout",
     "output_type": "stream",
     "text": [
      "Validation Loss for model (0, 2): 0.00\n",
      "Epoch 2/5 loss: 0.00\n"
     ]
    },
    {
     "name": "stderr",
     "output_type": "stream",
     "text": [
      "Training:  40%|████      | 2/5 [01:29<02:13, 44.46s/it]"
     ]
    },
    {
     "name": "stdout",
     "output_type": "stream",
     "text": [
      "Validation Loss for model (0, 2): 0.00\n",
      "Epoch 3/5 loss: 0.00\n"
     ]
    },
    {
     "name": "stderr",
     "output_type": "stream",
     "text": [
      "Training:  60%|██████    | 3/5 [02:13<01:28, 44.26s/it]"
     ]
    },
    {
     "name": "stdout",
     "output_type": "stream",
     "text": [
      "Validation Loss for model (0, 2): 0.00\n",
      "Epoch 4/5 loss: 0.00\n"
     ]
    },
    {
     "name": "stderr",
     "output_type": "stream",
     "text": [
      "Training:  80%|████████  | 4/5 [02:57<00:44, 44.17s/it]"
     ]
    },
    {
     "name": "stdout",
     "output_type": "stream",
     "text": [
      "Validation Loss for model (0, 2): 0.00\n",
      "Epoch 5/5 loss: 0.00\n"
     ]
    },
    {
     "name": "stderr",
     "output_type": "stream",
     "text": [
      "Training: 100%|██████████| 5/5 [03:40<00:00, 44.17s/it]"
     ]
    },
    {
     "name": "stdout",
     "output_type": "stream",
     "text": [
      "Validation Loss for model (0, 2): 0.00\n"
     ]
    },
    {
     "name": "stderr",
     "output_type": "stream",
     "text": [
      "\n",
      "Training:   0%|          | 0/5 [00:00<?, ?it/s]"
     ]
    },
    {
     "name": "stdout",
     "output_type": "stream",
     "text": [
      "Epoch 1/5 loss: 0.00\n"
     ]
    },
    {
     "name": "stderr",
     "output_type": "stream",
     "text": [
      "Training:  20%|██        | 1/5 [00:44<02:58, 44.71s/it]"
     ]
    },
    {
     "name": "stdout",
     "output_type": "stream",
     "text": [
      "Validation Loss for model (0, 3): 0.00\n",
      "Epoch 2/5 loss: 0.00\n"
     ]
    },
    {
     "name": "stderr",
     "output_type": "stream",
     "text": [
      "Training:  40%|████      | 2/5 [01:28<02:13, 44.41s/it]"
     ]
    },
    {
     "name": "stdout",
     "output_type": "stream",
     "text": [
      "Validation Loss for model (0, 3): 0.00\n",
      "Epoch 3/5 loss: 0.00\n"
     ]
    },
    {
     "name": "stderr",
     "output_type": "stream",
     "text": [
      "Training:  60%|██████    | 3/5 [02:12<01:28, 44.23s/it]"
     ]
    },
    {
     "name": "stdout",
     "output_type": "stream",
     "text": [
      "Validation Loss for model (0, 3): 0.00\n",
      "Epoch 4/5 loss: 0.00\n"
     ]
    },
    {
     "name": "stderr",
     "output_type": "stream",
     "text": [
      "Training:  80%|████████  | 4/5 [02:56<00:44, 44.10s/it]"
     ]
    },
    {
     "name": "stdout",
     "output_type": "stream",
     "text": [
      "Validation Loss for model (0, 3): 0.00\n",
      "Epoch 5/5 loss: 0.00\n"
     ]
    },
    {
     "name": "stderr",
     "output_type": "stream",
     "text": [
      "Training: 100%|██████████| 5/5 [03:40<00:00, 44.15s/it]"
     ]
    },
    {
     "name": "stdout",
     "output_type": "stream",
     "text": [
      "Validation Loss for model (0, 3): 0.00\n"
     ]
    },
    {
     "name": "stderr",
     "output_type": "stream",
     "text": [
      "\n",
      "Training:   0%|          | 0/5 [00:00<?, ?it/s]"
     ]
    },
    {
     "name": "stdout",
     "output_type": "stream",
     "text": [
      "Epoch 1/5 loss: 0.00\n"
     ]
    },
    {
     "name": "stderr",
     "output_type": "stream",
     "text": [
      "Training:  20%|██        | 1/5 [00:45<03:01, 45.40s/it]"
     ]
    },
    {
     "name": "stdout",
     "output_type": "stream",
     "text": [
      "Validation Loss for model (0, 4): 0.00\n",
      "Epoch 2/5 loss: 0.00\n"
     ]
    },
    {
     "name": "stderr",
     "output_type": "stream",
     "text": [
      "Training:  40%|████      | 2/5 [01:30<02:15, 45.11s/it]"
     ]
    },
    {
     "name": "stdout",
     "output_type": "stream",
     "text": [
      "Validation Loss for model (0, 4): 0.00\n",
      "Epoch 3/5 loss: 0.00\n"
     ]
    },
    {
     "name": "stderr",
     "output_type": "stream",
     "text": [
      "Training:  60%|██████    | 3/5 [02:15<01:29, 45.00s/it]"
     ]
    },
    {
     "name": "stdout",
     "output_type": "stream",
     "text": [
      "Validation Loss for model (0, 4): 0.00\n",
      "Epoch 4/5 loss: 0.00\n"
     ]
    },
    {
     "name": "stderr",
     "output_type": "stream",
     "text": [
      "Training:  80%|████████  | 4/5 [02:59<00:44, 44.92s/it]"
     ]
    },
    {
     "name": "stdout",
     "output_type": "stream",
     "text": [
      "Validation Loss for model (0, 4): 0.00\n",
      "Epoch 5/5 loss: 0.00\n"
     ]
    },
    {
     "name": "stderr",
     "output_type": "stream",
     "text": [
      "Training: 100%|██████████| 5/5 [03:44<00:00, 44.95s/it]"
     ]
    },
    {
     "name": "stdout",
     "output_type": "stream",
     "text": [
      "Validation Loss for model (0, 4): 0.00\n"
     ]
    },
    {
     "name": "stderr",
     "output_type": "stream",
     "text": [
      "\n",
      "Training:   0%|          | 0/5 [00:00<?, ?it/s]Error: command buffer exited with error status.\n",
      "\tThe Metal Performance Shaders operations encoded on it may not have completed.\n",
      "\tError: \n",
      "\t(null)\n",
      "\tInsufficient Memory (00000008:kIOGPUCommandBufferCallbackErrorOutOfMemory)\n",
      "\t<AGXG15GFamilyCommandBuffer: 0x5a8405930>\n",
      "    label = <none> \n",
      "    device = <AGXG15GDevice: 0x1226cea00>\n",
      "        name = Apple M3 \n",
      "    commandQueue = <AGXG15GFamilyCommandQueue: 0x16838fe00>\n",
      "        label = <none> \n",
      "        device = <AGXG15GDevice: 0x1226cea00>\n",
      "            name = Apple M3 \n",
      "    retainedReferences = 1\n"
     ]
    },
    {
     "name": "stdout",
     "output_type": "stream",
     "text": [
      "Epoch 1/5 loss: 0.00\n"
     ]
    },
    {
     "name": "stderr",
     "output_type": "stream",
     "text": [
      "Error: command buffer exited with error status.\n",
      "\tThe Metal Performance Shaders operations encoded on it may not have completed.\n",
      "\tError: \n",
      "\t(null)\n",
      "\tInsufficient Memory (00000008:kIOGPUCommandBufferCallbackErrorOutOfMemory)\n",
      "\t<AGXG15GFamilyCommandBuffer: 0x79d370bd0>\n",
      "    label = <none> \n",
      "    device = <AGXG15GDevice: 0x1226cea00>\n",
      "        name = Apple M3 \n",
      "    commandQueue = <AGXG15GFamilyCommandQueue: 0x16838fe00>\n",
      "        label = <none> \n",
      "        device = <AGXG15GDevice: 0x1226cea00>\n",
      "            name = Apple M3 \n",
      "    retainedReferences = 1\n",
      "Error: command buffer exited with error status.\n",
      "\tThe Metal Performance Shaders operations encoded on it may not have completed.\n",
      "\tError: \n",
      "\t(null)\n",
      "\tInsufficient Memory (00000008:kIOGPUCommandBufferCallbackErrorOutOfMemory)\n",
      "\t<AGXG15GFamilyCommandBuffer: 0x79d370bd0>\n",
      "    label = <none> \n",
      "    device = <AGXG15GDevice: 0x1226cea00>\n",
      "        name = Apple M3 \n",
      "    commandQueue = <AGXG15GFamilyCommandQueue: 0x16838fe00>\n",
      "        label = <none> \n",
      "        device = <AGXG15GDevice: 0x1226cea00>\n",
      "            name = Apple M3 \n",
      "    retainedReferences = 1\n",
      "Training:  20%|██        | 1/5 [00:46<03:07, 46.86s/it]"
     ]
    },
    {
     "name": "stdout",
     "output_type": "stream",
     "text": [
      "Validation Loss for model (1, 0): 0.00\n"
     ]
    },
    {
     "name": "stderr",
     "output_type": "stream",
     "text": [
      "Error: command buffer exited with error status.\n",
      "\tThe Metal Performance Shaders operations encoded on it may not have completed.\n",
      "\tError: \n",
      "\t(null)\n",
      "\tInsufficient Memory (00000008:kIOGPUCommandBufferCallbackErrorOutOfMemory)\n",
      "\t<AGXG15GFamilyCommandBuffer: 0x79c788a50>\n",
      "    label = <none> \n",
      "    device = <AGXG15GDevice: 0x1226cea00>\n",
      "        name = Apple M3 \n",
      "    commandQueue = <AGXG15GFamilyCommandQueue: 0x16838fe00>\n",
      "        label = <none> \n",
      "        device = <AGXG15GDevice: 0x1226cea00>\n",
      "            name = Apple M3 \n",
      "    retainedReferences = 1\n"
     ]
    },
    {
     "name": "stdout",
     "output_type": "stream",
     "text": [
      "Epoch 2/5 loss: 0.00\n"
     ]
    },
    {
     "name": "stderr",
     "output_type": "stream",
     "text": [
      "Error: command buffer exited with error status.\n",
      "\tThe Metal Performance Shaders operations encoded on it may not have completed.\n",
      "\tError: \n",
      "\t(null)\n",
      "\tInsufficient Memory (00000008:kIOGPUCommandBufferCallbackErrorOutOfMemory)\n",
      "\t<AGXG15GFamilyCommandBuffer: 0x78fc07100>\n",
      "    label = <none> \n",
      "    device = <AGXG15GDevice: 0x1226cea00>\n",
      "        name = Apple M3 \n",
      "    commandQueue = <AGXG15GFamilyCommandQueue: 0x16838fe00>\n",
      "        label = <none> \n",
      "        device = <AGXG15GDevice: 0x1226cea00>\n",
      "            name = Apple M3 \n",
      "    retainedReferences = 1\n",
      "Error: command buffer exited with error status.\n",
      "\tThe Metal Performance Shaders operations encoded on it may not have completed.\n",
      "\tError: \n",
      "\t(null)\n",
      "\tInsufficient Memory (00000008:kIOGPUCommandBufferCallbackErrorOutOfMemory)\n",
      "\t<AGXG15GFamilyCommandBuffer: 0x79c57fa60>\n",
      "    label = <none> \n",
      "    device = <AGXG15GDevice: 0x1226cea00>\n",
      "        name = Apple M3 \n",
      "    commandQueue = <AGXG15GFamilyCommandQueue: 0x16838fe00>\n",
      "        label = <none> \n",
      "        device = <AGXG15GDevice: 0x1226cea00>\n",
      "            name = Apple M3 \n",
      "    retainedReferences = 1\n",
      "Training:  40%|████      | 2/5 [01:31<02:16, 45.55s/it]"
     ]
    },
    {
     "name": "stdout",
     "output_type": "stream",
     "text": [
      "Validation Loss for model (1, 0): 0.00\n"
     ]
    },
    {
     "name": "stderr",
     "output_type": "stream",
     "text": [
      "Error: command buffer exited with error status.\n",
      "\tThe Metal Performance Shaders operations encoded on it may not have completed.\n",
      "\tError: \n",
      "\t(null)\n",
      "\tInsufficient Memory (00000008:kIOGPUCommandBufferCallbackErrorOutOfMemory)\n",
      "\t<AGXG15GFamilyCommandBuffer: 0x79000c490>\n",
      "    label = <none> \n",
      "    device = <AGXG15GDevice: 0x1226cea00>\n",
      "        name = Apple M3 \n",
      "    commandQueue = <AGXG15GFamilyCommandQueue: 0x16838fe00>\n",
      "        label = <none> \n",
      "        device = <AGXG15GDevice: 0x1226cea00>\n",
      "            name = Apple M3 \n",
      "    retainedReferences = 1\n"
     ]
    },
    {
     "name": "stdout",
     "output_type": "stream",
     "text": [
      "Epoch 3/5 loss: 0.00\n"
     ]
    },
    {
     "name": "stderr",
     "output_type": "stream",
     "text": [
      "Error: command buffer exited with error status.\n",
      "\tThe Metal Performance Shaders operations encoded on it may not have completed.\n",
      "\tError: \n",
      "\t(null)\n",
      "\tInsufficient Memory (00000008:kIOGPUCommandBufferCallbackErrorOutOfMemory)\n",
      "\t<AGXG15GFamilyCommandBuffer: 0x790539a30>\n",
      "    label = <none> \n",
      "    device = <AGXG15GDevice: 0x1226cea00>\n",
      "        name = Apple M3 \n",
      "    commandQueue = <AGXG15GFamilyCommandQueue: 0x16838fe00>\n",
      "        label = <none> \n",
      "        device = <AGXG15GDevice: 0x1226cea00>\n",
      "            name = Apple M3 \n",
      "    retainedReferences = 1\n",
      "Error: command buffer exited with error status.\n",
      "\tThe Metal Performance Shaders operations encoded on it may not have completed.\n",
      "\tError: \n",
      "\t(null)\n",
      "\tInsufficient Memory (00000008:kIOGPUCommandBufferCallbackErrorOutOfMemory)\n",
      "\t<AGXG15GFamilyCommandBuffer: 0x598e10d60>\n",
      "    label = <none> \n",
      "    device = <AGXG15GDevice: 0x1226cea00>\n",
      "        name = Apple M3 \n",
      "    commandQueue = <AGXG15GFamilyCommandQueue: 0x16838fe00>\n",
      "        label = <none> \n",
      "        device = <AGXG15GDevice: 0x1226cea00>\n",
      "            name = Apple M3 \n",
      "    retainedReferences = 1\n",
      "Training:  60%|██████    | 3/5 [02:16<01:30, 45.11s/it]"
     ]
    },
    {
     "name": "stdout",
     "output_type": "stream",
     "text": [
      "Validation Loss for model (1, 0): 0.00\n"
     ]
    },
    {
     "name": "stderr",
     "output_type": "stream",
     "text": [
      "Error: command buffer exited with error status.\n",
      "\tThe Metal Performance Shaders operations encoded on it may not have completed.\n",
      "\tError: \n",
      "\t(null)\n",
      "\tInsufficient Memory (00000008:kIOGPUCommandBufferCallbackErrorOutOfMemory)\n",
      "\t<AGXG15GFamilyCommandBuffer: 0x5b8326160>\n",
      "    label = <none> \n",
      "    device = <AGXG15GDevice: 0x1226cea00>\n",
      "        name = Apple M3 \n",
      "    commandQueue = <AGXG15GFamilyCommandQueue: 0x16838fe00>\n",
      "        label = <none> \n",
      "        device = <AGXG15GDevice: 0x1226cea00>\n",
      "            name = Apple M3 \n",
      "    retainedReferences = 1\n"
     ]
    },
    {
     "name": "stdout",
     "output_type": "stream",
     "text": [
      "Epoch 4/5 loss: 0.00\n"
     ]
    },
    {
     "name": "stderr",
     "output_type": "stream",
     "text": [
      "Error: command buffer exited with error status.\n",
      "\tThe Metal Performance Shaders operations encoded on it may not have completed.\n",
      "\tError: \n",
      "\t(null)\n",
      "\tInsufficient Memory (00000008:kIOGPUCommandBufferCallbackErrorOutOfMemory)\n",
      "\t<AGXG15GFamilyCommandBuffer: 0x5b3bb5010>\n",
      "    label = <none> \n",
      "    device = <AGXG15GDevice: 0x1226cea00>\n",
      "        name = Apple M3 \n",
      "    commandQueue = <AGXG15GFamilyCommandQueue: 0x16838fe00>\n",
      "        label = <none> \n",
      "        device = <AGXG15GDevice: 0x1226cea00>\n",
      "            name = Apple M3 \n",
      "    retainedReferences = 1\n",
      "Error: command buffer exited with error status.\n",
      "\tThe Metal Performance Shaders operations encoded on it may not have completed.\n",
      "\tError: \n",
      "\t(null)\n",
      "\tInsufficient Memory (00000008:kIOGPUCommandBufferCallbackErrorOutOfMemory)\n",
      "\t<AGXG15GFamilyCommandBuffer: 0x5929160c0>\n",
      "    label = <none> \n",
      "    device = <AGXG15GDevice: 0x1226cea00>\n",
      "        name = Apple M3 \n",
      "    commandQueue = <AGXG15GFamilyCommandQueue: 0x16838fe00>\n",
      "        label = <none> \n",
      "        device = <AGXG15GDevice: 0x1226cea00>\n",
      "            name = Apple M3 \n",
      "    retainedReferences = 1\n",
      "Training:  80%|████████  | 4/5 [03:00<00:44, 44.88s/it]"
     ]
    },
    {
     "name": "stdout",
     "output_type": "stream",
     "text": [
      "Validation Loss for model (1, 0): 0.00\n"
     ]
    },
    {
     "name": "stderr",
     "output_type": "stream",
     "text": [
      "Error: command buffer exited with error status.\n",
      "\tThe Metal Performance Shaders operations encoded on it may not have completed.\n",
      "\tError: \n",
      "\t(null)\n",
      "\tInsufficient Memory (00000008:kIOGPUCommandBufferCallbackErrorOutOfMemory)\n",
      "\t<AGXG15GFamilyCommandBuffer: 0x40d6bc000>\n",
      "    label = <none> \n",
      "    device = <AGXG15GDevice: 0x1226cea00>\n",
      "        name = Apple M3 \n",
      "    commandQueue = <AGXG15GFamilyCommandQueue: 0x16838fe00>\n",
      "        label = <none> \n",
      "        device = <AGXG15GDevice: 0x1226cea00>\n",
      "            name = Apple M3 \n",
      "    retainedReferences = 1\n"
     ]
    },
    {
     "name": "stdout",
     "output_type": "stream",
     "text": [
      "Epoch 5/5 loss: 0.00\n"
     ]
    },
    {
     "name": "stderr",
     "output_type": "stream",
     "text": [
      "Error: command buffer exited with error status.\n",
      "\tThe Metal Performance Shaders operations encoded on it may not have completed.\n",
      "\tError: \n",
      "\t(null)\n",
      "\tInsufficient Memory (00000008:kIOGPUCommandBufferCallbackErrorOutOfMemory)\n",
      "\t<AGXG15GFamilyCommandBuffer: 0x5c8d74960>\n",
      "    label = <none> \n",
      "    device = <AGXG15GDevice: 0x1226cea00>\n",
      "        name = Apple M3 \n",
      "    commandQueue = <AGXG15GFamilyCommandQueue: 0x16838fe00>\n",
      "        label = <none> \n",
      "        device = <AGXG15GDevice: 0x1226cea00>\n",
      "            name = Apple M3 \n",
      "    retainedReferences = 1\n",
      "Error: command buffer exited with error status.\n",
      "\tThe Metal Performance Shaders operations encoded on it may not have completed.\n",
      "\tError: \n",
      "\t(null)\n",
      "\tInsufficient Memory (00000008:kIOGPUCommandBufferCallbackErrorOutOfMemory)\n",
      "\t<AGXG15GFamilyCommandBuffer: 0x57c4fbb10>\n",
      "    label = <none> \n",
      "    device = <AGXG15GDevice: 0x1226cea00>\n",
      "        name = Apple M3 \n",
      "    commandQueue = <AGXG15GFamilyCommandQueue: 0x16838fe00>\n",
      "        label = <none> \n",
      "        device = <AGXG15GDevice: 0x1226cea00>\n",
      "            name = Apple M3 \n",
      "    retainedReferences = 1\n",
      "Training: 100%|██████████| 5/5 [03:45<00:00, 45.01s/it]\n"
     ]
    },
    {
     "name": "stdout",
     "output_type": "stream",
     "text": [
      "Validation Loss for model (1, 0): 0.00\n"
     ]
    },
    {
     "name": "stderr",
     "output_type": "stream",
     "text": [
      "Training:   0%|          | 0/5 [00:00<?, ?it/s]Error: command buffer exited with error status.\n",
      "\tThe Metal Performance Shaders operations encoded on it may not have completed.\n",
      "\tError: \n",
      "\t(null)\n",
      "\tInsufficient Memory (00000008:kIOGPUCommandBufferCallbackErrorOutOfMemory)\n",
      "\t<AGXG15GFamilyCommandBuffer: 0x79d6a2870>\n",
      "    label = <none> \n",
      "    device = <AGXG15GDevice: 0x1226cea00>\n",
      "        name = Apple M3 \n",
      "    commandQueue = <AGXG15GFamilyCommandQueue: 0x16838fe00>\n",
      "        label = <none> \n",
      "        device = <AGXG15GDevice: 0x1226cea00>\n",
      "            name = Apple M3 \n",
      "    retainedReferences = 1\n"
     ]
    },
    {
     "name": "stdout",
     "output_type": "stream",
     "text": [
      "Epoch 1/5 loss: 0.00\n"
     ]
    },
    {
     "name": "stderr",
     "output_type": "stream",
     "text": [
      "Error: command buffer exited with error status.\n",
      "\tThe Metal Performance Shaders operations encoded on it may not have completed.\n",
      "\tError: \n",
      "\t(null)\n",
      "\tInsufficient Memory (00000008:kIOGPUCommandBufferCallbackErrorOutOfMemory)\n",
      "\t<AGXG15GFamilyCommandBuffer: 0x5c772e160>\n",
      "    label = <none> \n",
      "    device = <AGXG15GDevice: 0x1226cea00>\n",
      "        name = Apple M3 \n",
      "    commandQueue = <AGXG15GFamilyCommandQueue: 0x16838fe00>\n",
      "        label = <none> \n",
      "        device = <AGXG15GDevice: 0x1226cea00>\n",
      "            name = Apple M3 \n",
      "    retainedReferences = 1\n",
      "Error: command buffer exited with error status.\n",
      "\tThe Metal Performance Shaders operations encoded on it may not have completed.\n",
      "\tError: \n",
      "\t(null)\n",
      "\tInsufficient Memory (00000008:kIOGPUCommandBufferCallbackErrorOutOfMemory)\n",
      "\t<AGXG15GFamilyCommandBuffer: 0x5c6f46d50>\n",
      "    label = <none> \n",
      "    device = <AGXG15GDevice: 0x1226cea00>\n",
      "        name = Apple M3 \n",
      "    commandQueue = <AGXG15GFamilyCommandQueue: 0x16838fe00>\n",
      "        label = <none> \n",
      "        device = <AGXG15GDevice: 0x1226cea00>\n",
      "            name = Apple M3 \n",
      "    retainedReferences = 1\n",
      "Training:  20%|██        | 1/5 [00:45<03:02, 45.62s/it]"
     ]
    },
    {
     "name": "stdout",
     "output_type": "stream",
     "text": [
      "Validation Loss for model (1, 1): 0.00\n"
     ]
    },
    {
     "name": "stderr",
     "output_type": "stream",
     "text": [
      "Error: command buffer exited with error status.\n",
      "\tThe Metal Performance Shaders operations encoded on it may not have completed.\n",
      "\tError: \n",
      "\t(null)\n",
      "\tInsufficient Memory (00000008:kIOGPUCommandBufferCallbackErrorOutOfMemory)\n",
      "\t<AGXG15GFamilyCommandBuffer: 0x7ae8afde0>\n",
      "    label = <none> \n",
      "    device = <AGXG15GDevice: 0x1226cea00>\n",
      "        name = Apple M3 \n",
      "    commandQueue = <AGXG15GFamilyCommandQueue: 0x16838fe00>\n",
      "        label = <none> \n",
      "        device = <AGXG15GDevice: 0x1226cea00>\n",
      "            name = Apple M3 \n",
      "    retainedReferences = 1\n"
     ]
    },
    {
     "name": "stdout",
     "output_type": "stream",
     "text": [
      "Epoch 2/5 loss: 0.00\n"
     ]
    },
    {
     "name": "stderr",
     "output_type": "stream",
     "text": [
      "Error: command buffer exited with error status.\n",
      "\tThe Metal Performance Shaders operations encoded on it may not have completed.\n",
      "\tError: \n",
      "\t(null)\n",
      "\tInsufficient Memory (00000008:kIOGPUCommandBufferCallbackErrorOutOfMemory)\n",
      "\t<AGXG15GFamilyCommandBuffer: 0x79e94caa0>\n",
      "    label = <none> \n",
      "    device = <AGXG15GDevice: 0x1226cea00>\n",
      "        name = Apple M3 \n",
      "    commandQueue = <AGXG15GFamilyCommandQueue: 0x16838fe00>\n",
      "        label = <none> \n",
      "        device = <AGXG15GDevice: 0x1226cea00>\n",
      "            name = Apple M3 \n",
      "    retainedReferences = 1\n",
      "Error: command buffer exited with error status.\n",
      "\tThe Metal Performance Shaders operations encoded on it may not have completed.\n",
      "\tError: \n",
      "\t(null)\n",
      "\tInsufficient Memory (00000008:kIOGPUCommandBufferCallbackErrorOutOfMemory)\n",
      "\t<AGXG15GFamilyCommandBuffer: 0x5ba7bf570>\n",
      "    label = <none> \n",
      "    device = <AGXG15GDevice: 0x1226cea00>\n",
      "        name = Apple M3 \n",
      "    commandQueue = <AGXG15GFamilyCommandQueue: 0x16838fe00>\n",
      "        label = <none> \n",
      "        device = <AGXG15GDevice: 0x1226cea00>\n",
      "            name = Apple M3 \n",
      "    retainedReferences = 1\n",
      "Training:  40%|████      | 2/5 [01:30<02:15, 45.14s/it]"
     ]
    },
    {
     "name": "stdout",
     "output_type": "stream",
     "text": [
      "Validation Loss for model (1, 1): 0.00\n"
     ]
    },
    {
     "name": "stderr",
     "output_type": "stream",
     "text": [
      "Error: command buffer exited with error status.\n",
      "\tThe Metal Performance Shaders operations encoded on it may not have completed.\n",
      "\tError: \n",
      "\t(null)\n",
      "\tInsufficient Memory (00000008:kIOGPUCommandBufferCallbackErrorOutOfMemory)\n",
      "\t<AGXG15GFamilyCommandBuffer: 0x5bb7e5700>\n",
      "    label = <none> \n",
      "    device = <AGXG15GDevice: 0x1226cea00>\n",
      "        name = Apple M3 \n",
      "    commandQueue = <AGXG15GFamilyCommandQueue: 0x16838fe00>\n",
      "        label = <none> \n",
      "        device = <AGXG15GDevice: 0x1226cea00>\n",
      "            name = Apple M3 \n",
      "    retainedReferences = 1\n"
     ]
    },
    {
     "name": "stdout",
     "output_type": "stream",
     "text": [
      "Epoch 3/5 loss: 0.00\n"
     ]
    },
    {
     "name": "stderr",
     "output_type": "stream",
     "text": [
      "Error: command buffer exited with error status.\n",
      "\tThe Metal Performance Shaders operations encoded on it may not have completed.\n",
      "\tError: \n",
      "\t(null)\n",
      "\tInsufficient Memory (00000008:kIOGPUCommandBufferCallbackErrorOutOfMemory)\n",
      "\t<AGXG15GFamilyCommandBuffer: 0x5cf0f52f0>\n",
      "    label = <none> \n",
      "    device = <AGXG15GDevice: 0x1226cea00>\n",
      "        name = Apple M3 \n",
      "    commandQueue = <AGXG15GFamilyCommandQueue: 0x16838fe00>\n",
      "        label = <none> \n",
      "        device = <AGXG15GDevice: 0x1226cea00>\n",
      "            name = Apple M3 \n",
      "    retainedReferences = 1\n",
      "Error: command buffer exited with error status.\n",
      "\tThe Metal Performance Shaders operations encoded on it may not have completed.\n",
      "\tError: \n",
      "\t(null)\n",
      "\tInsufficient Memory (00000008:kIOGPUCommandBufferCallbackErrorOutOfMemory)\n",
      "\t<AGXG15GFamilyCommandBuffer: 0x7fd272540>\n",
      "    label = <none> \n",
      "    device = <AGXG15GDevice: 0x1226cea00>\n",
      "        name = Apple M3 \n",
      "    commandQueue = <AGXG15GFamilyCommandQueue: 0x16838fe00>\n",
      "        label = <none> \n",
      "        device = <AGXG15GDevice: 0x1226cea00>\n",
      "            name = Apple M3 \n",
      "    retainedReferences = 1\n",
      "Training:  60%|██████    | 3/5 [02:15<01:30, 45.14s/it]"
     ]
    },
    {
     "name": "stdout",
     "output_type": "stream",
     "text": [
      "Validation Loss for model (1, 1): 0.00\n"
     ]
    },
    {
     "name": "stderr",
     "output_type": "stream",
     "text": [
      "Error: command buffer exited with error status.\n",
      "\tThe Metal Performance Shaders operations encoded on it may not have completed.\n",
      "\tError: \n",
      "\t(null)\n",
      "\tInsufficient Memory (00000008:kIOGPUCommandBufferCallbackErrorOutOfMemory)\n",
      "\t<AGXG15GFamilyCommandBuffer: 0x5d1670c70>\n",
      "    label = <none> \n",
      "    device = <AGXG15GDevice: 0x1226cea00>\n",
      "        name = Apple M3 \n",
      "    commandQueue = <AGXG15GFamilyCommandQueue: 0x16838fe00>\n",
      "        label = <none> \n",
      "        device = <AGXG15GDevice: 0x1226cea00>\n",
      "            name = Apple M3 \n",
      "    retainedReferences = 1\n"
     ]
    },
    {
     "name": "stdout",
     "output_type": "stream",
     "text": [
      "Epoch 4/5 loss: 0.00\n"
     ]
    },
    {
     "name": "stderr",
     "output_type": "stream",
     "text": [
      "Error: command buffer exited with error status.\n",
      "\tThe Metal Performance Shaders operations encoded on it may not have completed.\n",
      "\tError: \n",
      "\t(null)\n",
      "\tInsufficient Memory (00000008:kIOGPUCommandBufferCallbackErrorOutOfMemory)\n",
      "\t<AGXG15GFamilyCommandBuffer: 0x5b3b7c0f0>\n",
      "    label = <none> \n",
      "    device = <AGXG15GDevice: 0x1226cea00>\n",
      "        name = Apple M3 \n",
      "    commandQueue = <AGXG15GFamilyCommandQueue: 0x16838fe00>\n",
      "        label = <none> \n",
      "        device = <AGXG15GDevice: 0x1226cea00>\n",
      "            name = Apple M3 \n",
      "    retainedReferences = 1\n",
      "Error: command buffer exited with error status.\n",
      "\tThe Metal Performance Shaders operations encoded on it may not have completed.\n",
      "\tError: \n",
      "\t(null)\n",
      "\tInsufficient Memory (00000008:kIOGPUCommandBufferCallbackErrorOutOfMemory)\n",
      "\t<AGXG15GFamilyCommandBuffer: 0x5b3b7c0f0>\n",
      "    label = <none> \n",
      "    device = <AGXG15GDevice: 0x1226cea00>\n",
      "        name = Apple M3 \n",
      "    commandQueue = <AGXG15GFamilyCommandQueue: 0x16838fe00>\n",
      "        label = <none> \n",
      "        device = <AGXG15GDevice: 0x1226cea00>\n",
      "            name = Apple M3 \n",
      "    retainedReferences = 1\n",
      "Training:  80%|████████  | 4/5 [03:00<00:44, 44.90s/it]"
     ]
    },
    {
     "name": "stdout",
     "output_type": "stream",
     "text": [
      "Validation Loss for model (1, 1): 0.00\n"
     ]
    },
    {
     "name": "stderr",
     "output_type": "stream",
     "text": [
      "Error: command buffer exited with error status.\n",
      "\tThe Metal Performance Shaders operations encoded on it may not have completed.\n",
      "\tError: \n",
      "\t(null)\n",
      "\tInsufficient Memory (00000008:kIOGPUCommandBufferCallbackErrorOutOfMemory)\n",
      "\t<AGXG15GFamilyCommandBuffer: 0x800cc1120>\n",
      "    label = <none> \n",
      "    device = <AGXG15GDevice: 0x1226cea00>\n",
      "        name = Apple M3 \n",
      "    commandQueue = <AGXG15GFamilyCommandQueue: 0x16838fe00>\n",
      "        label = <none> \n",
      "        device = <AGXG15GDevice: 0x1226cea00>\n",
      "            name = Apple M3 \n",
      "    retainedReferences = 1\n"
     ]
    },
    {
     "name": "stdout",
     "output_type": "stream",
     "text": [
      "Epoch 5/5 loss: 0.00\n"
     ]
    },
    {
     "name": "stderr",
     "output_type": "stream",
     "text": [
      "Error: command buffer exited with error status.\n",
      "\tThe Metal Performance Shaders operations encoded on it may not have completed.\n",
      "\tError: \n",
      "\t(null)\n",
      "\tInsufficient Memory (00000008:kIOGPUCommandBufferCallbackErrorOutOfMemory)\n",
      "\t<AGXG15GFamilyCommandBuffer: 0x5ac04a260>\n",
      "    label = <none> \n",
      "    device = <AGXG15GDevice: 0x1226cea00>\n",
      "        name = Apple M3 \n",
      "    commandQueue = <AGXG15GFamilyCommandQueue: 0x16838fe00>\n",
      "        label = <none> \n",
      "        device = <AGXG15GDevice: 0x1226cea00>\n",
      "            name = Apple M3 \n",
      "    retainedReferences = 1\n",
      "Error: command buffer exited with error status.\n",
      "\tThe Metal Performance Shaders operations encoded on it may not have completed.\n",
      "\tError: \n",
      "\t(null)\n",
      "\tInsufficient Memory (00000008:kIOGPUCommandBufferCallbackErrorOutOfMemory)\n",
      "\t<AGXG15GFamilyCommandBuffer: 0x59e268810>\n",
      "    label = <none> \n",
      "    device = <AGXG15GDevice: 0x1226cea00>\n",
      "        name = Apple M3 \n",
      "    commandQueue = <AGXG15GFamilyCommandQueue: 0x16838fe00>\n",
      "        label = <none> \n",
      "        device = <AGXG15GDevice: 0x1226cea00>\n",
      "            name = Apple M3 \n",
      "    retainedReferences = 1\n",
      "Training: 100%|██████████| 5/5 [03:45<00:00, 45.07s/it]\n"
     ]
    },
    {
     "name": "stdout",
     "output_type": "stream",
     "text": [
      "Validation Loss for model (1, 1): 0.00\n"
     ]
    },
    {
     "name": "stderr",
     "output_type": "stream",
     "text": [
      "Training:   0%|          | 0/5 [00:00<?, ?it/s]Error: command buffer exited with error status.\n",
      "\tThe Metal Performance Shaders operations encoded on it may not have completed.\n",
      "\tError: \n",
      "\t(null)\n",
      "\tInsufficient Memory (00000008:kIOGPUCommandBufferCallbackErrorOutOfMemory)\n",
      "\t<AGXG15GFamilyCommandBuffer: 0x7fd806920>\n",
      "    label = <none> \n",
      "    device = <AGXG15GDevice: 0x1226cea00>\n",
      "        name = Apple M3 \n",
      "    commandQueue = <AGXG15GFamilyCommandQueue: 0x16838fe00>\n",
      "        label = <none> \n",
      "        device = <AGXG15GDevice: 0x1226cea00>\n",
      "            name = Apple M3 \n",
      "    retainedReferences = 1\n"
     ]
    },
    {
     "name": "stdout",
     "output_type": "stream",
     "text": [
      "Epoch 1/5 loss: 0.00\n"
     ]
    },
    {
     "name": "stderr",
     "output_type": "stream",
     "text": [
      "Error: command buffer exited with error status.\n",
      "\tThe Metal Performance Shaders operations encoded on it may not have completed.\n",
      "\tError: \n",
      "\t(null)\n",
      "\tInsufficient Memory (00000008:kIOGPUCommandBufferCallbackErrorOutOfMemory)\n",
      "\t<AGXG15GFamilyCommandBuffer: 0x5a0563490>\n",
      "    label = <none> \n",
      "    device = <AGXG15GDevice: 0x1226cea00>\n",
      "        name = Apple M3 \n",
      "    commandQueue = <AGXG15GFamilyCommandQueue: 0x16838fe00>\n",
      "        label = <none> \n",
      "        device = <AGXG15GDevice: 0x1226cea00>\n",
      "            name = Apple M3 \n",
      "    retainedReferences = 1\n",
      "Error: command buffer exited with error status.\n",
      "\tThe Metal Performance Shaders operations encoded on it may not have completed.\n",
      "\tError: \n",
      "\t(null)\n",
      "\tInsufficient Memory (00000008:kIOGPUCommandBufferCallbackErrorOutOfMemory)\n",
      "\t<AGXG15GFamilyCommandBuffer: 0x5ce677e80>\n",
      "    label = <none> \n",
      "    device = <AGXG15GDevice: 0x1226cea00>\n",
      "        name = Apple M3 \n",
      "    commandQueue = <AGXG15GFamilyCommandQueue: 0x16838fe00>\n",
      "        label = <none> \n",
      "        device = <AGXG15GDevice: 0x1226cea00>\n",
      "            name = Apple M3 \n",
      "    retainedReferences = 1\n",
      "Training:  20%|██        | 1/5 [00:45<03:03, 45.93s/it]"
     ]
    },
    {
     "name": "stdout",
     "output_type": "stream",
     "text": [
      "Validation Loss for model (1, 2): 0.00\n"
     ]
    },
    {
     "name": "stderr",
     "output_type": "stream",
     "text": [
      "Error: command buffer exited with error status.\n",
      "\tThe Metal Performance Shaders operations encoded on it may not have completed.\n",
      "\tError: \n",
      "\t(null)\n",
      "\tInsufficient Memory (00000008:kIOGPUCommandBufferCallbackErrorOutOfMemory)\n",
      "\t<AGXG15GFamilyCommandBuffer: 0x8062061c0>\n",
      "    label = <none> \n",
      "    device = <AGXG15GDevice: 0x1226cea00>\n",
      "        name = Apple M3 \n",
      "    commandQueue = <AGXG15GFamilyCommandQueue: 0x16838fe00>\n",
      "        label = <none> \n",
      "        device = <AGXG15GDevice: 0x1226cea00>\n",
      "            name = Apple M3 \n",
      "    retainedReferences = 1\n"
     ]
    },
    {
     "name": "stdout",
     "output_type": "stream",
     "text": [
      "Epoch 2/5 loss: 0.00\n"
     ]
    },
    {
     "name": "stderr",
     "output_type": "stream",
     "text": [
      "Error: command buffer exited with error status.\n",
      "\tThe Metal Performance Shaders operations encoded on it may not have completed.\n",
      "\tError: \n",
      "\t(null)\n",
      "\tInsufficient Memory (00000008:kIOGPUCommandBufferCallbackErrorOutOfMemory)\n",
      "\t<AGXG15GFamilyCommandBuffer: 0x59a067460>\n",
      "    label = <none> \n",
      "    device = <AGXG15GDevice: 0x1226cea00>\n",
      "        name = Apple M3 \n",
      "    commandQueue = <AGXG15GFamilyCommandQueue: 0x16838fe00>\n",
      "        label = <none> \n",
      "        device = <AGXG15GDevice: 0x1226cea00>\n",
      "            name = Apple M3 \n",
      "    retainedReferences = 1\n",
      "Error: command buffer exited with error status.\n",
      "\tThe Metal Performance Shaders operations encoded on it may not have completed.\n",
      "\tError: \n",
      "\t(null)\n",
      "\tInsufficient Memory (00000008:kIOGPUCommandBufferCallbackErrorOutOfMemory)\n",
      "\t<AGXG15GFamilyCommandBuffer: 0x5abef9af0>\n",
      "    label = <none> \n",
      "    device = <AGXG15GDevice: 0x1226cea00>\n",
      "        name = Apple M3 \n",
      "    commandQueue = <AGXG15GFamilyCommandQueue: 0x16838fe00>\n",
      "        label = <none> \n",
      "        device = <AGXG15GDevice: 0x1226cea00>\n",
      "            name = Apple M3 \n",
      "    retainedReferences = 1\n",
      "Training:  40%|████      | 2/5 [01:30<02:15, 45.24s/it]"
     ]
    },
    {
     "name": "stdout",
     "output_type": "stream",
     "text": [
      "Validation Loss for model (1, 2): 0.00\n"
     ]
    },
    {
     "name": "stderr",
     "output_type": "stream",
     "text": [
      "Error: command buffer exited with error status.\n",
      "\tThe Metal Performance Shaders operations encoded on it may not have completed.\n",
      "\tError: \n",
      "\t(null)\n",
      "\tInsufficient Memory (00000008:kIOGPUCommandBufferCallbackErrorOutOfMemory)\n",
      "\t<AGXG15GFamilyCommandBuffer: 0x80017f430>\n",
      "    label = <none> \n",
      "    device = <AGXG15GDevice: 0x1226cea00>\n",
      "        name = Apple M3 \n",
      "    commandQueue = <AGXG15GFamilyCommandQueue: 0x16838fe00>\n",
      "        label = <none> \n",
      "        device = <AGXG15GDevice: 0x1226cea00>\n",
      "            name = Apple M3 \n",
      "    retainedReferences = 1\n"
     ]
    },
    {
     "name": "stdout",
     "output_type": "stream",
     "text": [
      "Epoch 3/5 loss: 0.00\n"
     ]
    },
    {
     "name": "stderr",
     "output_type": "stream",
     "text": [
      "Error: command buffer exited with error status.\n",
      "\tThe Metal Performance Shaders operations encoded on it may not have completed.\n",
      "\tError: \n",
      "\t(null)\n",
      "\tInsufficient Memory (00000008:kIOGPUCommandBufferCallbackErrorOutOfMemory)\n",
      "\t<AGXG15GFamilyCommandBuffer: 0x7a2379720>\n",
      "    label = <none> \n",
      "    device = <AGXG15GDevice: 0x1226cea00>\n",
      "        name = Apple M3 \n",
      "    commandQueue = <AGXG15GFamilyCommandQueue: 0x16838fe00>\n",
      "        label = <none> \n",
      "        device = <AGXG15GDevice: 0x1226cea00>\n",
      "            name = Apple M3 \n",
      "    retainedReferences = 1\n",
      "Error: command buffer exited with error status.\n",
      "\tThe Metal Performance Shaders operations encoded on it may not have completed.\n",
      "\tError: \n",
      "\t(null)\n",
      "\tInsufficient Memory (00000008:kIOGPUCommandBufferCallbackErrorOutOfMemory)\n",
      "\t<AGXG15GFamilyCommandBuffer: 0x5c3517750>\n",
      "    label = <none> \n",
      "    device = <AGXG15GDevice: 0x1226cea00>\n",
      "        name = Apple M3 \n",
      "    commandQueue = <AGXG15GFamilyCommandQueue: 0x16838fe00>\n",
      "        label = <none> \n",
      "        device = <AGXG15GDevice: 0x1226cea00>\n",
      "            name = Apple M3 \n",
      "    retainedReferences = 1\n",
      "Training:  60%|██████    | 3/5 [02:15<01:29, 45.00s/it]"
     ]
    },
    {
     "name": "stdout",
     "output_type": "stream",
     "text": [
      "Validation Loss for model (1, 2): 0.00\n"
     ]
    },
    {
     "name": "stderr",
     "output_type": "stream",
     "text": [
      "Error: command buffer exited with error status.\n",
      "\tThe Metal Performance Shaders operations encoded on it may not have completed.\n",
      "\tError: \n",
      "\t(null)\n",
      "\tInsufficient Memory (00000008:kIOGPUCommandBufferCallbackErrorOutOfMemory)\n",
      "\t<AGXG15GFamilyCommandBuffer: 0x7fe684590>\n",
      "    label = <none> \n",
      "    device = <AGXG15GDevice: 0x1226cea00>\n",
      "        name = Apple M3 \n",
      "    commandQueue = <AGXG15GFamilyCommandQueue: 0x16838fe00>\n",
      "        label = <none> \n",
      "        device = <AGXG15GDevice: 0x1226cea00>\n",
      "            name = Apple M3 \n",
      "    retainedReferences = 1\n"
     ]
    },
    {
     "name": "stdout",
     "output_type": "stream",
     "text": [
      "Epoch 4/5 loss: 0.00\n"
     ]
    },
    {
     "name": "stderr",
     "output_type": "stream",
     "text": [
      "Error: command buffer exited with error status.\n",
      "\tThe Metal Performance Shaders operations encoded on it may not have completed.\n",
      "\tError: \n",
      "\t(null)\n",
      "\tInsufficient Memory (00000008:kIOGPUCommandBufferCallbackErrorOutOfMemory)\n",
      "\t<AGXG15GFamilyCommandBuffer: 0x7a09e7770>\n",
      "    label = <none> \n",
      "    device = <AGXG15GDevice: 0x1226cea00>\n",
      "        name = Apple M3 \n",
      "    commandQueue = <AGXG15GFamilyCommandQueue: 0x16838fe00>\n",
      "        label = <none> \n",
      "        device = <AGXG15GDevice: 0x1226cea00>\n",
      "            name = Apple M3 \n",
      "    retainedReferences = 1\n",
      "Error: command buffer exited with error status.\n",
      "\tThe Metal Performance Shaders operations encoded on it may not have completed.\n",
      "\tError: \n",
      "\t(null)\n",
      "\tInsufficient Memory (00000008:kIOGPUCommandBufferCallbackErrorOutOfMemory)\n",
      "\t<AGXG15GFamilyCommandBuffer: 0x7a09e7770>\n",
      "    label = <none> \n",
      "    device = <AGXG15GDevice: 0x1226cea00>\n",
      "        name = Apple M3 \n",
      "    commandQueue = <AGXG15GFamilyCommandQueue: 0x16838fe00>\n",
      "        label = <none> \n",
      "        device = <AGXG15GDevice: 0x1226cea00>\n",
      "            name = Apple M3 \n",
      "    retainedReferences = 1\n",
      "Training:  80%|████████  | 4/5 [02:59<00:44, 44.75s/it]"
     ]
    },
    {
     "name": "stdout",
     "output_type": "stream",
     "text": [
      "Validation Loss for model (1, 2): 0.00\n"
     ]
    },
    {
     "name": "stderr",
     "output_type": "stream",
     "text": [
      "Error: command buffer exited with error status.\n",
      "\tThe Metal Performance Shaders operations encoded on it may not have completed.\n",
      "\tError: \n",
      "\t(null)\n",
      "\tInsufficient Memory (00000008:kIOGPUCommandBufferCallbackErrorOutOfMemory)\n",
      "\t<AGXG15GFamilyCommandBuffer: 0x79d3b7560>\n",
      "    label = <none> \n",
      "    device = <AGXG15GDevice: 0x1226cea00>\n",
      "        name = Apple M3 \n",
      "    commandQueue = <AGXG15GFamilyCommandQueue: 0x16838fe00>\n",
      "        label = <none> \n",
      "        device = <AGXG15GDevice: 0x1226cea00>\n",
      "            name = Apple M3 \n",
      "    retainedReferences = 1\n"
     ]
    },
    {
     "name": "stdout",
     "output_type": "stream",
     "text": [
      "Epoch 5/5 loss: 0.00\n"
     ]
    },
    {
     "name": "stderr",
     "output_type": "stream",
     "text": [
      "Error: command buffer exited with error status.\n",
      "\tThe Metal Performance Shaders operations encoded on it may not have completed.\n",
      "\tError: \n",
      "\t(null)\n",
      "\tInsufficient Memory (00000008:kIOGPUCommandBufferCallbackErrorOutOfMemory)\n",
      "\t<AGXG15GFamilyCommandBuffer: 0x5d0b24510>\n",
      "    label = <none> \n",
      "    device = <AGXG15GDevice: 0x1226cea00>\n",
      "        name = Apple M3 \n",
      "    commandQueue = <AGXG15GFamilyCommandQueue: 0x16838fe00>\n",
      "        label = <none> \n",
      "        device = <AGXG15GDevice: 0x1226cea00>\n",
      "            name = Apple M3 \n",
      "    retainedReferences = 1\n",
      "Error: command buffer exited with error status.\n",
      "\tThe Metal Performance Shaders operations encoded on it may not have completed.\n",
      "\tError: \n",
      "\t(null)\n",
      "\tInsufficient Memory (00000008:kIOGPUCommandBufferCallbackErrorOutOfMemory)\n",
      "\t<AGXG15GFamilyCommandBuffer: 0x7af36c620>\n",
      "    label = <none> \n",
      "    device = <AGXG15GDevice: 0x1226cea00>\n",
      "        name = Apple M3 \n",
      "    commandQueue = <AGXG15GFamilyCommandQueue: 0x16838fe00>\n",
      "        label = <none> \n",
      "        device = <AGXG15GDevice: 0x1226cea00>\n",
      "            name = Apple M3 \n",
      "    retainedReferences = 1\n",
      "Training: 100%|██████████| 5/5 [03:45<00:00, 45.01s/it]\n"
     ]
    },
    {
     "name": "stdout",
     "output_type": "stream",
     "text": [
      "Validation Loss for model (1, 2): 0.00\n"
     ]
    },
    {
     "name": "stderr",
     "output_type": "stream",
     "text": [
      "Training:   0%|          | 0/5 [00:00<?, ?it/s]Error: command buffer exited with error status.\n",
      "\tThe Metal Performance Shaders operations encoded on it may not have completed.\n",
      "\tError: \n",
      "\t(null)\n",
      "\tInsufficient Memory (00000008:kIOGPUCommandBufferCallbackErrorOutOfMemory)\n",
      "\t<AGXG15GFamilyCommandBuffer: 0x7a32a7f80>\n",
      "    label = <none> \n",
      "    device = <AGXG15GDevice: 0x1226cea00>\n",
      "        name = Apple M3 \n",
      "    commandQueue = <AGXG15GFamilyCommandQueue: 0x16838fe00>\n",
      "        label = <none> \n",
      "        device = <AGXG15GDevice: 0x1226cea00>\n",
      "            name = Apple M3 \n",
      "    retainedReferences = 1\n"
     ]
    },
    {
     "name": "stdout",
     "output_type": "stream",
     "text": [
      "Epoch 1/5 loss: 0.00\n"
     ]
    },
    {
     "name": "stderr",
     "output_type": "stream",
     "text": [
      "Error: command buffer exited with error status.\n",
      "\tThe Metal Performance Shaders operations encoded on it may not have completed.\n",
      "\tError: \n",
      "\t(null)\n",
      "\tInsufficient Memory (00000008:kIOGPUCommandBufferCallbackErrorOutOfMemory)\n",
      "\t<AGXG15GFamilyCommandBuffer: 0x7a32a7f80>\n",
      "    label = <none> \n",
      "    device = <AGXG15GDevice: 0x1226cea00>\n",
      "        name = Apple M3 \n",
      "    commandQueue = <AGXG15GFamilyCommandQueue: 0x16838fe00>\n",
      "        label = <none> \n",
      "        device = <AGXG15GDevice: 0x1226cea00>\n",
      "            name = Apple M3 \n",
      "    retainedReferences = 1\n",
      "Error: command buffer exited with error status.\n",
      "\tThe Metal Performance Shaders operations encoded on it may not have completed.\n",
      "\tError: \n",
      "\t(null)\n",
      "\tInsufficient Memory (00000008:kIOGPUCommandBufferCallbackErrorOutOfMemory)\n",
      "\t<AGXG15GFamilyCommandBuffer: 0x58fc36bc0>\n",
      "    label = <none> \n",
      "    device = <AGXG15GDevice: 0x1226cea00>\n",
      "        name = Apple M3 \n",
      "    commandQueue = <AGXG15GFamilyCommandQueue: 0x16838fe00>\n",
      "        label = <none> \n",
      "        device = <AGXG15GDevice: 0x1226cea00>\n",
      "            name = Apple M3 \n",
      "    retainedReferences = 1\n",
      "Training:  20%|██        | 1/5 [00:44<02:59, 44.76s/it]"
     ]
    },
    {
     "name": "stdout",
     "output_type": "stream",
     "text": [
      "Validation Loss for model (1, 3): 0.00\n"
     ]
    },
    {
     "name": "stderr",
     "output_type": "stream",
     "text": [
      "Error: command buffer exited with error status.\n",
      "\tThe Metal Performance Shaders operations encoded on it may not have completed.\n",
      "\tError: \n",
      "\t(null)\n",
      "\tInsufficient Memory (00000008:kIOGPUCommandBufferCallbackErrorOutOfMemory)\n",
      "\t<AGXG15GFamilyCommandBuffer: 0x32b707e40>\n",
      "    label = <none> \n",
      "    device = <AGXG15GDevice: 0x1226cea00>\n",
      "        name = Apple M3 \n",
      "    commandQueue = <AGXG15GFamilyCommandQueue: 0x16838fe00>\n",
      "        label = <none> \n",
      "        device = <AGXG15GDevice: 0x1226cea00>\n",
      "            name = Apple M3 \n",
      "    retainedReferences = 1\n"
     ]
    },
    {
     "name": "stdout",
     "output_type": "stream",
     "text": [
      "Epoch 2/5 loss: 0.00\n"
     ]
    },
    {
     "name": "stderr",
     "output_type": "stream",
     "text": [
      "Error: command buffer exited with error status.\n",
      "\tThe Metal Performance Shaders operations encoded on it may not have completed.\n",
      "\tError: \n",
      "\t(null)\n",
      "\tInsufficient Memory (00000008:kIOGPUCommandBufferCallbackErrorOutOfMemory)\n",
      "\t<AGXG15GFamilyCommandBuffer: 0x5c4f813a0>\n",
      "    label = <none> \n",
      "    device = <AGXG15GDevice: 0x1226cea00>\n",
      "        name = Apple M3 \n",
      "    commandQueue = <AGXG15GFamilyCommandQueue: 0x16838fe00>\n",
      "        label = <none> \n",
      "        device = <AGXG15GDevice: 0x1226cea00>\n",
      "            name = Apple M3 \n",
      "    retainedReferences = 1\n",
      "Error: command buffer exited with error status.\n",
      "\tThe Metal Performance Shaders operations encoded on it may not have completed.\n",
      "\tError: \n",
      "\t(null)\n",
      "\tInsufficient Memory (00000008:kIOGPUCommandBufferCallbackErrorOutOfMemory)\n",
      "\t<AGXG15GFamilyCommandBuffer: 0x791a0d830>\n",
      "    label = <none> \n",
      "    device = <AGXG15GDevice: 0x1226cea00>\n",
      "        name = Apple M3 \n",
      "    commandQueue = <AGXG15GFamilyCommandQueue: 0x16838fe00>\n",
      "        label = <none> \n",
      "        device = <AGXG15GDevice: 0x1226cea00>\n",
      "            name = Apple M3 \n",
      "    retainedReferences = 1\n",
      "Training:  40%|████      | 2/5 [01:28<02:12, 44.08s/it]"
     ]
    },
    {
     "name": "stdout",
     "output_type": "stream",
     "text": [
      "Validation Loss for model (1, 3): 0.00\n"
     ]
    },
    {
     "name": "stderr",
     "output_type": "stream",
     "text": [
      "Error: command buffer exited with error status.\n",
      "\tThe Metal Performance Shaders operations encoded on it may not have completed.\n",
      "\tError: \n",
      "\t(null)\n",
      "\tInsufficient Memory (00000008:kIOGPUCommandBufferCallbackErrorOutOfMemory)\n",
      "\t<AGXG15GFamilyCommandBuffer: 0x32b4091c0>\n",
      "    label = <none> \n",
      "    device = <AGXG15GDevice: 0x1226cea00>\n",
      "        name = Apple M3 \n",
      "    commandQueue = <AGXG15GFamilyCommandQueue: 0x16838fe00>\n",
      "        label = <none> \n",
      "        device = <AGXG15GDevice: 0x1226cea00>\n",
      "            name = Apple M3 \n",
      "    retainedReferences = 1\n"
     ]
    },
    {
     "name": "stdout",
     "output_type": "stream",
     "text": [
      "Epoch 3/5 loss: 0.00\n"
     ]
    },
    {
     "name": "stderr",
     "output_type": "stream",
     "text": [
      "Error: command buffer exited with error status.\n",
      "\tThe Metal Performance Shaders operations encoded on it may not have completed.\n",
      "\tError: \n",
      "\t(null)\n",
      "\tInsufficient Memory (00000008:kIOGPUCommandBufferCallbackErrorOutOfMemory)\n",
      "\t<AGXG15GFamilyCommandBuffer: 0x5ca5fe8c0>\n",
      "    label = <none> \n",
      "    device = <AGXG15GDevice: 0x1226cea00>\n",
      "        name = Apple M3 \n",
      "    commandQueue = <AGXG15GFamilyCommandQueue: 0x16838fe00>\n",
      "        label = <none> \n",
      "        device = <AGXG15GDevice: 0x1226cea00>\n",
      "            name = Apple M3 \n",
      "    retainedReferences = 1\n",
      "Error: command buffer exited with error status.\n",
      "\tThe Metal Performance Shaders operations encoded on it may not have completed.\n",
      "\tError: \n",
      "\t(null)\n",
      "\tInsufficient Memory (00000008:kIOGPUCommandBufferCallbackErrorOutOfMemory)\n",
      "\t<AGXG15GFamilyCommandBuffer: 0x7a3221200>\n",
      "    label = <none> \n",
      "    device = <AGXG15GDevice: 0x1226cea00>\n",
      "        name = Apple M3 \n",
      "    commandQueue = <AGXG15GFamilyCommandQueue: 0x16838fe00>\n",
      "        label = <none> \n",
      "        device = <AGXG15GDevice: 0x1226cea00>\n",
      "            name = Apple M3 \n",
      "    retainedReferences = 1\n",
      "Training:  60%|██████    | 3/5 [02:12<01:27, 43.94s/it]"
     ]
    },
    {
     "name": "stdout",
     "output_type": "stream",
     "text": [
      "Validation Loss for model (1, 3): 0.00\n"
     ]
    },
    {
     "name": "stderr",
     "output_type": "stream",
     "text": [
      "Error: command buffer exited with error status.\n",
      "\tThe Metal Performance Shaders operations encoded on it may not have completed.\n",
      "\tError: \n",
      "\t(null)\n",
      "\tInsufficient Memory (00000008:kIOGPUCommandBufferCallbackErrorOutOfMemory)\n",
      "\t<AGXG15GFamilyCommandBuffer: 0x7a17538a0>\n",
      "    label = <none> \n",
      "    device = <AGXG15GDevice: 0x1226cea00>\n",
      "        name = Apple M3 \n",
      "    commandQueue = <AGXG15GFamilyCommandQueue: 0x16838fe00>\n",
      "        label = <none> \n",
      "        device = <AGXG15GDevice: 0x1226cea00>\n",
      "            name = Apple M3 \n",
      "    retainedReferences = 1\n"
     ]
    },
    {
     "name": "stdout",
     "output_type": "stream",
     "text": [
      "Epoch 4/5 loss: 0.00\n"
     ]
    },
    {
     "name": "stderr",
     "output_type": "stream",
     "text": [
      "Error: command buffer exited with error status.\n",
      "\tThe Metal Performance Shaders operations encoded on it may not have completed.\n",
      "\tError: \n",
      "\t(null)\n",
      "\tInsufficient Memory (00000008:kIOGPUCommandBufferCallbackErrorOutOfMemory)\n",
      "\t<AGXG15GFamilyCommandBuffer: 0x78bd828b0>\n",
      "    label = <none> \n",
      "    device = <AGXG15GDevice: 0x1226cea00>\n",
      "        name = Apple M3 \n",
      "    commandQueue = <AGXG15GFamilyCommandQueue: 0x16838fe00>\n",
      "        label = <none> \n",
      "        device = <AGXG15GDevice: 0x1226cea00>\n",
      "            name = Apple M3 \n",
      "    retainedReferences = 1\n",
      "Error: command buffer exited with error status.\n",
      "\tThe Metal Performance Shaders operations encoded on it may not have completed.\n",
      "\tError: \n",
      "\t(null)\n",
      "\tInsufficient Memory (00000008:kIOGPUCommandBufferCallbackErrorOutOfMemory)\n",
      "\t<AGXG15GFamilyCommandBuffer: 0x5c5a20a90>\n",
      "    label = <none> \n",
      "    device = <AGXG15GDevice: 0x1226cea00>\n",
      "        name = Apple M3 \n",
      "    commandQueue = <AGXG15GFamilyCommandQueue: 0x16838fe00>\n",
      "        label = <none> \n",
      "        device = <AGXG15GDevice: 0x1226cea00>\n",
      "            name = Apple M3 \n",
      "    retainedReferences = 1\n",
      "Training:  80%|████████  | 4/5 [02:55<00:43, 43.87s/it]"
     ]
    },
    {
     "name": "stdout",
     "output_type": "stream",
     "text": [
      "Validation Loss for model (1, 3): 0.00\n"
     ]
    },
    {
     "name": "stderr",
     "output_type": "stream",
     "text": [
      "Error: command buffer exited with error status.\n",
      "\tThe Metal Performance Shaders operations encoded on it may not have completed.\n",
      "\tError: \n",
      "\t(null)\n",
      "\tInsufficient Memory (00000008:kIOGPUCommandBufferCallbackErrorOutOfMemory)\n",
      "\t<AGXG15GFamilyCommandBuffer: 0x5cbc6f750>\n",
      "    label = <none> \n",
      "    device = <AGXG15GDevice: 0x1226cea00>\n",
      "        name = Apple M3 \n",
      "    commandQueue = <AGXG15GFamilyCommandQueue: 0x16838fe00>\n",
      "        label = <none> \n",
      "        device = <AGXG15GDevice: 0x1226cea00>\n",
      "            name = Apple M3 \n",
      "    retainedReferences = 1\n"
     ]
    },
    {
     "name": "stdout",
     "output_type": "stream",
     "text": [
      "Epoch 5/5 loss: 0.00\n"
     ]
    },
    {
     "name": "stderr",
     "output_type": "stream",
     "text": [
      "Error: command buffer exited with error status.\n",
      "\tThe Metal Performance Shaders operations encoded on it may not have completed.\n",
      "\tError: \n",
      "\t(null)\n",
      "\tInsufficient Memory (00000008:kIOGPUCommandBufferCallbackErrorOutOfMemory)\n",
      "\t<AGXG15GFamilyCommandBuffer: 0x78db08030>\n",
      "    label = <none> \n",
      "    device = <AGXG15GDevice: 0x1226cea00>\n",
      "        name = Apple M3 \n",
      "    commandQueue = <AGXG15GFamilyCommandQueue: 0x16838fe00>\n",
      "        label = <none> \n",
      "        device = <AGXG15GDevice: 0x1226cea00>\n",
      "            name = Apple M3 \n",
      "    retainedReferences = 1\n",
      "Error: command buffer exited with error status.\n",
      "\tThe Metal Performance Shaders operations encoded on it may not have completed.\n",
      "\tError: \n",
      "\t(null)\n",
      "\tInsufficient Memory (00000008:kIOGPUCommandBufferCallbackErrorOutOfMemory)\n",
      "\t<AGXG15GFamilyCommandBuffer: 0x5cf5f2770>\n",
      "    label = <none> \n",
      "    device = <AGXG15GDevice: 0x1226cea00>\n",
      "        name = Apple M3 \n",
      "    commandQueue = <AGXG15GFamilyCommandQueue: 0x16838fe00>\n",
      "        label = <none> \n",
      "        device = <AGXG15GDevice: 0x1226cea00>\n",
      "            name = Apple M3 \n",
      "    retainedReferences = 1\n",
      "Training: 100%|██████████| 5/5 [03:39<00:00, 43.96s/it]\n"
     ]
    },
    {
     "name": "stdout",
     "output_type": "stream",
     "text": [
      "Validation Loss for model (1, 3): 0.00\n"
     ]
    },
    {
     "name": "stderr",
     "output_type": "stream",
     "text": [
      "Training:   0%|          | 0/5 [00:00<?, ?it/s]Error: command buffer exited with error status.\n",
      "\tThe Metal Performance Shaders operations encoded on it may not have completed.\n",
      "\tError: \n",
      "\t(null)\n",
      "\tInsufficient Memory (00000008:kIOGPUCommandBufferCallbackErrorOutOfMemory)\n",
      "\t<AGXG15GFamilyCommandBuffer: 0x84fb58f80>\n",
      "    label = <none> \n",
      "    device = <AGXG15GDevice: 0x1226cea00>\n",
      "        name = Apple M3 \n",
      "    commandQueue = <AGXG15GFamilyCommandQueue: 0x16838fe00>\n",
      "        label = <none> \n",
      "        device = <AGXG15GDevice: 0x1226cea00>\n",
      "            name = Apple M3 \n",
      "    retainedReferences = 1\n"
     ]
    },
    {
     "name": "stdout",
     "output_type": "stream",
     "text": [
      "Epoch 1/5 loss: 0.00\n"
     ]
    },
    {
     "name": "stderr",
     "output_type": "stream",
     "text": [
      "Error: command buffer exited with error status.\n",
      "\tThe Metal Performance Shaders operations encoded on it may not have completed.\n",
      "\tError: \n",
      "\t(null)\n",
      "\tInsufficient Memory (00000008:kIOGPUCommandBufferCallbackErrorOutOfMemory)\n",
      "\t<AGXG15GFamilyCommandBuffer: 0x319ec6cb0>\n",
      "    label = <none> \n",
      "    device = <AGXG15GDevice: 0x1226cea00>\n",
      "        name = Apple M3 \n",
      "    commandQueue = <AGXG15GFamilyCommandQueue: 0x16838fe00>\n",
      "        label = <none> \n",
      "        device = <AGXG15GDevice: 0x1226cea00>\n",
      "            name = Apple M3 \n",
      "    retainedReferences = 1\n",
      "Error: command buffer exited with error status.\n",
      "\tThe Metal Performance Shaders operations encoded on it may not have completed.\n",
      "\tError: \n",
      "\t(null)\n",
      "\tInsufficient Memory (00000008:kIOGPUCommandBufferCallbackErrorOutOfMemory)\n",
      "\t<AGXG15GFamilyCommandBuffer: 0x78d99e470>\n",
      "    label = <none> \n",
      "    device = <AGXG15GDevice: 0x1226cea00>\n",
      "        name = Apple M3 \n",
      "    commandQueue = <AGXG15GFamilyCommandQueue: 0x16838fe00>\n",
      "        label = <none> \n",
      "        device = <AGXG15GDevice: 0x1226cea00>\n",
      "            name = Apple M3 \n",
      "    retainedReferences = 1\n",
      "Training:  20%|██        | 1/5 [00:44<02:58, 44.66s/it]"
     ]
    },
    {
     "name": "stdout",
     "output_type": "stream",
     "text": [
      "Validation Loss for model (1, 4): 0.00\n"
     ]
    },
    {
     "name": "stderr",
     "output_type": "stream",
     "text": [
      "Error: command buffer exited with error status.\n",
      "\tThe Metal Performance Shaders operations encoded on it may not have completed.\n",
      "\tError: \n",
      "\t(null)\n",
      "\tInsufficient Memory (00000008:kIOGPUCommandBufferCallbackErrorOutOfMemory)\n",
      "\t<AGXG15GFamilyCommandBuffer: 0x84fca9990>\n",
      "    label = <none> \n",
      "    device = <AGXG15GDevice: 0x1226cea00>\n",
      "        name = Apple M3 \n",
      "    commandQueue = <AGXG15GFamilyCommandQueue: 0x16838fe00>\n",
      "        label = <none> \n",
      "        device = <AGXG15GDevice: 0x1226cea00>\n",
      "            name = Apple M3 \n",
      "    retainedReferences = 1\n"
     ]
    },
    {
     "name": "stdout",
     "output_type": "stream",
     "text": [
      "Epoch 2/5 loss: 0.00\n"
     ]
    },
    {
     "name": "stderr",
     "output_type": "stream",
     "text": [
      "Error: command buffer exited with error status.\n",
      "\tThe Metal Performance Shaders operations encoded on it may not have completed.\n",
      "\tError: \n",
      "\t(null)\n",
      "\tInsufficient Memory (00000008:kIOGPUCommandBufferCallbackErrorOutOfMemory)\n",
      "\t<AGXG15GFamilyCommandBuffer: 0x7973ca240>\n",
      "    label = <none> \n",
      "    device = <AGXG15GDevice: 0x1226cea00>\n",
      "        name = Apple M3 \n",
      "    commandQueue = <AGXG15GFamilyCommandQueue: 0x16838fe00>\n",
      "        label = <none> \n",
      "        device = <AGXG15GDevice: 0x1226cea00>\n",
      "            name = Apple M3 \n",
      "    retainedReferences = 1\n",
      "Error: command buffer exited with error status.\n",
      "\tThe Metal Performance Shaders operations encoded on it may not have completed.\n",
      "\tError: \n",
      "\t(null)\n",
      "\tInsufficient Memory (00000008:kIOGPUCommandBufferCallbackErrorOutOfMemory)\n",
      "\t<AGXG15GFamilyCommandBuffer: 0x5b2c17110>\n",
      "    label = <none> \n",
      "    device = <AGXG15GDevice: 0x1226cea00>\n",
      "        name = Apple M3 \n",
      "    commandQueue = <AGXG15GFamilyCommandQueue: 0x16838fe00>\n",
      "        label = <none> \n",
      "        device = <AGXG15GDevice: 0x1226cea00>\n",
      "            name = Apple M3 \n",
      "    retainedReferences = 1\n",
      "Training:  40%|████      | 2/5 [01:28<02:13, 44.39s/it]"
     ]
    },
    {
     "name": "stdout",
     "output_type": "stream",
     "text": [
      "Validation Loss for model (1, 4): 0.00\n"
     ]
    },
    {
     "name": "stderr",
     "output_type": "stream",
     "text": [
      "Error: command buffer exited with error status.\n",
      "\tThe Metal Performance Shaders operations encoded on it may not have completed.\n",
      "\tError: \n",
      "\t(null)\n",
      "\tInsufficient Memory (00000008:kIOGPUCommandBufferCallbackErrorOutOfMemory)\n",
      "\t<AGXG15GFamilyCommandBuffer: 0x8552067d0>\n",
      "    label = <none> \n",
      "    device = <AGXG15GDevice: 0x1226cea00>\n",
      "        name = Apple M3 \n",
      "    commandQueue = <AGXG15GFamilyCommandQueue: 0x16838fe00>\n",
      "        label = <none> \n",
      "        device = <AGXG15GDevice: 0x1226cea00>\n",
      "            name = Apple M3 \n",
      "    retainedReferences = 1\n"
     ]
    },
    {
     "name": "stdout",
     "output_type": "stream",
     "text": [
      "Epoch 3/5 loss: 0.00\n"
     ]
    },
    {
     "name": "stderr",
     "output_type": "stream",
     "text": [
      "Error: command buffer exited with error status.\n",
      "\tThe Metal Performance Shaders operations encoded on it may not have completed.\n",
      "\tError: \n",
      "\t(null)\n",
      "\tInsufficient Memory (00000008:kIOGPUCommandBufferCallbackErrorOutOfMemory)\n",
      "\t<AGXG15GFamilyCommandBuffer: 0x7fe8669b0>\n",
      "    label = <none> \n",
      "    device = <AGXG15GDevice: 0x1226cea00>\n",
      "        name = Apple M3 \n",
      "    commandQueue = <AGXG15GFamilyCommandQueue: 0x16838fe00>\n",
      "        label = <none> \n",
      "        device = <AGXG15GDevice: 0x1226cea00>\n",
      "            name = Apple M3 \n",
      "    retainedReferences = 1\n",
      "Error: command buffer exited with error status.\n",
      "\tThe Metal Performance Shaders operations encoded on it may not have completed.\n",
      "\tError: \n",
      "\t(null)\n",
      "\tInsufficient Memory (00000008:kIOGPUCommandBufferCallbackErrorOutOfMemory)\n",
      "\t<AGXG15GFamilyCommandBuffer: 0x32cf75510>\n",
      "    label = <none> \n",
      "    device = <AGXG15GDevice: 0x1226cea00>\n",
      "        name = Apple M3 \n",
      "    commandQueue = <AGXG15GFamilyCommandQueue: 0x16838fe00>\n",
      "        label = <none> \n",
      "        device = <AGXG15GDevice: 0x1226cea00>\n",
      "            name = Apple M3 \n",
      "    retainedReferences = 1\n",
      "Training:  60%|██████    | 3/5 [02:12<01:28, 44.18s/it]"
     ]
    },
    {
     "name": "stdout",
     "output_type": "stream",
     "text": [
      "Validation Loss for model (1, 4): 0.00\n"
     ]
    },
    {
     "name": "stderr",
     "output_type": "stream",
     "text": [
      "Error: command buffer exited with error status.\n",
      "\tThe Metal Performance Shaders operations encoded on it may not have completed.\n",
      "\tError: \n",
      "\t(null)\n",
      "\tInsufficient Memory (00000008:kIOGPUCommandBufferCallbackErrorOutOfMemory)\n",
      "\t<AGXG15GFamilyCommandBuffer: 0x31a68edf0>\n",
      "    label = <none> \n",
      "    device = <AGXG15GDevice: 0x1226cea00>\n",
      "        name = Apple M3 \n",
      "    commandQueue = <AGXG15GFamilyCommandQueue: 0x16838fe00>\n",
      "        label = <none> \n",
      "        device = <AGXG15GDevice: 0x1226cea00>\n",
      "            name = Apple M3 \n",
      "    retainedReferences = 1\n"
     ]
    },
    {
     "name": "stdout",
     "output_type": "stream",
     "text": [
      "Epoch 4/5 loss: 0.00\n"
     ]
    },
    {
     "name": "stderr",
     "output_type": "stream",
     "text": [
      "Error: command buffer exited with error status.\n",
      "\tThe Metal Performance Shaders operations encoded on it may not have completed.\n",
      "\tError: \n",
      "\t(null)\n",
      "\tInsufficient Memory (00000008:kIOGPUCommandBufferCallbackErrorOutOfMemory)\n",
      "\t<AGXG15GFamilyCommandBuffer: 0x84a5ac5a0>\n",
      "    label = <none> \n",
      "    device = <AGXG15GDevice: 0x1226cea00>\n",
      "        name = Apple M3 \n",
      "    commandQueue = <AGXG15GFamilyCommandQueue: 0x16838fe00>\n",
      "        label = <none> \n",
      "        device = <AGXG15GDevice: 0x1226cea00>\n",
      "            name = Apple M3 \n",
      "    retainedReferences = 1\n",
      "Error: command buffer exited with error status.\n",
      "\tThe Metal Performance Shaders operations encoded on it may not have completed.\n",
      "\tError: \n",
      "\t(null)\n",
      "\tInsufficient Memory (00000008:kIOGPUCommandBufferCallbackErrorOutOfMemory)\n",
      "\t<AGXG15GFamilyCommandBuffer: 0x5a833a6e0>\n",
      "    label = <none> \n",
      "    device = <AGXG15GDevice: 0x1226cea00>\n",
      "        name = Apple M3 \n",
      "    commandQueue = <AGXG15GFamilyCommandQueue: 0x16838fe00>\n",
      "        label = <none> \n",
      "        device = <AGXG15GDevice: 0x1226cea00>\n",
      "            name = Apple M3 \n",
      "    retainedReferences = 1\n",
      "Training:  80%|████████  | 4/5 [02:56<00:43, 43.99s/it]"
     ]
    },
    {
     "name": "stdout",
     "output_type": "stream",
     "text": [
      "Validation Loss for model (1, 4): 0.00\n"
     ]
    },
    {
     "name": "stderr",
     "output_type": "stream",
     "text": [
      "Error: command buffer exited with error status.\n",
      "\tThe Metal Performance Shaders operations encoded on it may not have completed.\n",
      "\tError: \n",
      "\t(null)\n",
      "\tInsufficient Memory (00000008:kIOGPUCommandBufferCallbackErrorOutOfMemory)\n",
      "\t<AGXG15GFamilyCommandBuffer: 0x856a067c0>\n",
      "    label = <none> \n",
      "    device = <AGXG15GDevice: 0x1226cea00>\n",
      "        name = Apple M3 \n",
      "    commandQueue = <AGXG15GFamilyCommandQueue: 0x16838fe00>\n",
      "        label = <none> \n",
      "        device = <AGXG15GDevice: 0x1226cea00>\n",
      "            name = Apple M3 \n",
      "    retainedReferences = 1\n"
     ]
    },
    {
     "name": "stdout",
     "output_type": "stream",
     "text": [
      "Epoch 5/5 loss: 0.00\n"
     ]
    },
    {
     "name": "stderr",
     "output_type": "stream",
     "text": [
      "Error: command buffer exited with error status.\n",
      "\tThe Metal Performance Shaders operations encoded on it may not have completed.\n",
      "\tError: \n",
      "\t(null)\n",
      "\tInsufficient Memory (00000008:kIOGPUCommandBufferCallbackErrorOutOfMemory)\n",
      "\t<AGXG15GFamilyCommandBuffer: 0x5b6a81180>\n",
      "    label = <none> \n",
      "    device = <AGXG15GDevice: 0x1226cea00>\n",
      "        name = Apple M3 \n",
      "    commandQueue = <AGXG15GFamilyCommandQueue: 0x16838fe00>\n",
      "        label = <none> \n",
      "        device = <AGXG15GDevice: 0x1226cea00>\n",
      "            name = Apple M3 \n",
      "    retainedReferences = 1\n",
      "Error: command buffer exited with error status.\n",
      "\tThe Metal Performance Shaders operations encoded on it may not have completed.\n",
      "\tError: \n",
      "\t(null)\n",
      "\tInsufficient Memory (00000008:kIOGPUCommandBufferCallbackErrorOutOfMemory)\n",
      "\t<AGXG15GFamilyCommandBuffer: 0x800fe83e0>\n",
      "    label = <none> \n",
      "    device = <AGXG15GDevice: 0x1226cea00>\n",
      "        name = Apple M3 \n",
      "    commandQueue = <AGXG15GFamilyCommandQueue: 0x16838fe00>\n",
      "        label = <none> \n",
      "        device = <AGXG15GDevice: 0x1226cea00>\n",
      "            name = Apple M3 \n",
      "    retainedReferences = 1\n",
      "Training: 100%|██████████| 5/5 [03:40<00:00, 44.11s/it]\n"
     ]
    },
    {
     "name": "stdout",
     "output_type": "stream",
     "text": [
      "Validation Loss for model (1, 4): 0.00\n"
     ]
    },
    {
     "name": "stderr",
     "output_type": "stream",
     "text": [
      "Training:   0%|          | 0/5 [00:00<?, ?it/s]Error: command buffer exited with error status.\n",
      "\tThe Metal Performance Shaders operations encoded on it may not have completed.\n",
      "\tError: \n",
      "\t(null)\n",
      "\tInsufficient Memory (00000008:kIOGPUCommandBufferCallbackErrorOutOfMemory)\n",
      "\t<AGXG15GFamilyCommandBuffer: 0x84a11c0c0>\n",
      "    label = <none> \n",
      "    device = <AGXG15GDevice: 0x1226cea00>\n",
      "        name = Apple M3 \n",
      "    commandQueue = <AGXG15GFamilyCommandQueue: 0x16838fe00>\n",
      "        label = <none> \n",
      "        device = <AGXG15GDevice: 0x1226cea00>\n",
      "            name = Apple M3 \n",
      "    retainedReferences = 1\n"
     ]
    },
    {
     "name": "stdout",
     "output_type": "stream",
     "text": [
      "Epoch 1/5 loss: 0.00\n"
     ]
    },
    {
     "name": "stderr",
     "output_type": "stream",
     "text": [
      "Error: command buffer exited with error status.\n",
      "\tThe Metal Performance Shaders operations encoded on it may not have completed.\n",
      "\tError: \n",
      "\t(null)\n",
      "\tInsufficient Memory (00000008:kIOGPUCommandBufferCallbackErrorOutOfMemory)\n",
      "\t<AGXG15GFamilyCommandBuffer: 0x5cbb84090>\n",
      "    label = <none> \n",
      "    device = <AGXG15GDevice: 0x1226cea00>\n",
      "        name = Apple M3 \n",
      "    commandQueue = <AGXG15GFamilyCommandQueue: 0x16838fe00>\n",
      "        label = <none> \n",
      "        device = <AGXG15GDevice: 0x1226cea00>\n",
      "            name = Apple M3 \n",
      "    retainedReferences = 1\n",
      "Error: command buffer exited with error status.\n",
      "\tThe Metal Performance Shaders operations encoded on it may not have completed.\n",
      "\tError: \n",
      "\t(null)\n",
      "\tInsufficient Memory (00000008:kIOGPUCommandBufferCallbackErrorOutOfMemory)\n",
      "\t<AGXG15GFamilyCommandBuffer: 0x5cbb84090>\n",
      "    label = <none> \n",
      "    device = <AGXG15GDevice: 0x1226cea00>\n",
      "        name = Apple M3 \n",
      "    commandQueue = <AGXG15GFamilyCommandQueue: 0x16838fe00>\n",
      "        label = <none> \n",
      "        device = <AGXG15GDevice: 0x1226cea00>\n",
      "            name = Apple M3 \n",
      "    retainedReferences = 1\n",
      "Training:  20%|██        | 1/5 [00:45<03:02, 45.52s/it]"
     ]
    },
    {
     "name": "stdout",
     "output_type": "stream",
     "text": [
      "Validation Loss for model (2, 0): 0.00\n"
     ]
    },
    {
     "name": "stderr",
     "output_type": "stream",
     "text": [
      "Error: command buffer exited with error status.\n",
      "\tThe Metal Performance Shaders operations encoded on it may not have completed.\n",
      "\tError: \n",
      "\t(null)\n",
      "\tInsufficient Memory (00000008:kIOGPUCommandBufferCallbackErrorOutOfMemory)\n",
      "\t<AGXG15GFamilyCommandBuffer: 0x891006930>\n",
      "    label = <none> \n",
      "    device = <AGXG15GDevice: 0x1226cea00>\n",
      "        name = Apple M3 \n",
      "    commandQueue = <AGXG15GFamilyCommandQueue: 0x16838fe00>\n",
      "        label = <none> \n",
      "        device = <AGXG15GDevice: 0x1226cea00>\n",
      "            name = Apple M3 \n",
      "    retainedReferences = 1\n"
     ]
    },
    {
     "name": "stdout",
     "output_type": "stream",
     "text": [
      "Epoch 2/5 loss: 0.00\n"
     ]
    },
    {
     "name": "stderr",
     "output_type": "stream",
     "text": [
      "Error: command buffer exited with error status.\n",
      "\tThe Metal Performance Shaders operations encoded on it may not have completed.\n",
      "\tError: \n",
      "\t(null)\n",
      "\tInsufficient Memory (00000008:kIOGPUCommandBufferCallbackErrorOutOfMemory)\n",
      "\t<AGXG15GFamilyCommandBuffer: 0x8058283c0>\n",
      "    label = <none> \n",
      "    device = <AGXG15GDevice: 0x1226cea00>\n",
      "        name = Apple M3 \n",
      "    commandQueue = <AGXG15GFamilyCommandQueue: 0x16838fe00>\n",
      "        label = <none> \n",
      "        device = <AGXG15GDevice: 0x1226cea00>\n",
      "            name = Apple M3 \n",
      "    retainedReferences = 1\n",
      "Error: command buffer exited with error status.\n",
      "\tThe Metal Performance Shaders operations encoded on it may not have completed.\n",
      "\tError: \n",
      "\t(null)\n",
      "\tInsufficient Memory (00000008:kIOGPUCommandBufferCallbackErrorOutOfMemory)\n",
      "\t<AGXG15GFamilyCommandBuffer: 0x79abca720>\n",
      "    label = <none> \n",
      "    device = <AGXG15GDevice: 0x1226cea00>\n",
      "        name = Apple M3 \n",
      "    commandQueue = <AGXG15GFamilyCommandQueue: 0x16838fe00>\n",
      "        label = <none> \n",
      "        device = <AGXG15GDevice: 0x1226cea00>\n",
      "            name = Apple M3 \n",
      "    retainedReferences = 1\n",
      "Training:  40%|████      | 2/5 [01:29<02:14, 44.85s/it]"
     ]
    },
    {
     "name": "stdout",
     "output_type": "stream",
     "text": [
      "Validation Loss for model (2, 0): 0.00\n"
     ]
    },
    {
     "name": "stderr",
     "output_type": "stream",
     "text": [
      "Error: command buffer exited with error status.\n",
      "\tThe Metal Performance Shaders operations encoded on it may not have completed.\n",
      "\tError: \n",
      "\t(null)\n",
      "\tInsufficient Memory (00000008:kIOGPUCommandBufferCallbackErrorOutOfMemory)\n",
      "\t<AGXG15GFamilyCommandBuffer: 0x85804bd40>\n",
      "    label = <none> \n",
      "    device = <AGXG15GDevice: 0x1226cea00>\n",
      "        name = Apple M3 \n",
      "    commandQueue = <AGXG15GFamilyCommandQueue: 0x16838fe00>\n",
      "        label = <none> \n",
      "        device = <AGXG15GDevice: 0x1226cea00>\n",
      "            name = Apple M3 \n",
      "    retainedReferences = 1\n"
     ]
    },
    {
     "name": "stdout",
     "output_type": "stream",
     "text": [
      "Epoch 3/5 loss: 0.00\n"
     ]
    },
    {
     "name": "stderr",
     "output_type": "stream",
     "text": [
      "Error: command buffer exited with error status.\n",
      "\tThe Metal Performance Shaders operations encoded on it may not have completed.\n",
      "\tError: \n",
      "\t(null)\n",
      "\tInsufficient Memory (00000008:kIOGPUCommandBufferCallbackErrorOutOfMemory)\n",
      "\t<AGXG15GFamilyCommandBuffer: 0x32b77fa30>\n",
      "    label = <none> \n",
      "    device = <AGXG15GDevice: 0x1226cea00>\n",
      "        name = Apple M3 \n",
      "    commandQueue = <AGXG15GFamilyCommandQueue: 0x16838fe00>\n",
      "        label = <none> \n",
      "        device = <AGXG15GDevice: 0x1226cea00>\n",
      "            name = Apple M3 \n",
      "    retainedReferences = 1\n",
      "Error: command buffer exited with error status.\n",
      "\tThe Metal Performance Shaders operations encoded on it may not have completed.\n",
      "\tError: \n",
      "\t(null)\n",
      "\tInsufficient Memory (00000008:kIOGPUCommandBufferCallbackErrorOutOfMemory)\n",
      "\t<AGXG15GFamilyCommandBuffer: 0x32cbc69b0>\n",
      "    label = <none> \n",
      "    device = <AGXG15GDevice: 0x1226cea00>\n",
      "        name = Apple M3 \n",
      "    commandQueue = <AGXG15GFamilyCommandQueue: 0x16838fe00>\n",
      "        label = <none> \n",
      "        device = <AGXG15GDevice: 0x1226cea00>\n",
      "            name = Apple M3 \n",
      "    retainedReferences = 1\n",
      "Training:  60%|██████    | 3/5 [02:14<01:29, 44.59s/it]"
     ]
    },
    {
     "name": "stdout",
     "output_type": "stream",
     "text": [
      "Validation Loss for model (2, 0): 0.00\n"
     ]
    },
    {
     "name": "stderr",
     "output_type": "stream",
     "text": [
      "Error: command buffer exited with error status.\n",
      "\tThe Metal Performance Shaders operations encoded on it may not have completed.\n",
      "\tError: \n",
      "\t(null)\n",
      "\tInsufficient Memory (00000008:kIOGPUCommandBufferCallbackErrorOutOfMemory)\n",
      "\t<AGXG15GFamilyCommandBuffer: 0x850e7ee40>\n",
      "    label = <none> \n",
      "    device = <AGXG15GDevice: 0x1226cea00>\n",
      "        name = Apple M3 \n",
      "    commandQueue = <AGXG15GFamilyCommandQueue: 0x16838fe00>\n",
      "        label = <none> \n",
      "        device = <AGXG15GDevice: 0x1226cea00>\n",
      "            name = Apple M3 \n",
      "    retainedReferences = 1\n"
     ]
    },
    {
     "name": "stdout",
     "output_type": "stream",
     "text": [
      "Epoch 4/5 loss: 0.00\n"
     ]
    },
    {
     "name": "stderr",
     "output_type": "stream",
     "text": [
      "Error: command buffer exited with error status.\n",
      "\tThe Metal Performance Shaders operations encoded on it may not have completed.\n",
      "\tError: \n",
      "\t(null)\n",
      "\tInsufficient Memory (00000008:kIOGPUCommandBufferCallbackErrorOutOfMemory)\n",
      "\t<AGXG15GFamilyCommandBuffer: 0x5c62f36a0>\n",
      "    label = <none> \n",
      "    device = <AGXG15GDevice: 0x1226cea00>\n",
      "        name = Apple M3 \n",
      "    commandQueue = <AGXG15GFamilyCommandQueue: 0x16838fe00>\n",
      "        label = <none> \n",
      "        device = <AGXG15GDevice: 0x1226cea00>\n",
      "            name = Apple M3 \n",
      "    retainedReferences = 1\n",
      "Error: command buffer exited with error status.\n",
      "\tThe Metal Performance Shaders operations encoded on it may not have completed.\n",
      "\tError: \n",
      "\t(null)\n",
      "\tInsufficient Memory (00000008:kIOGPUCommandBufferCallbackErrorOutOfMemory)\n",
      "\t<AGXG15GFamilyCommandBuffer: 0x84d849270>\n",
      "    label = <none> \n",
      "    device = <AGXG15GDevice: 0x1226cea00>\n",
      "        name = Apple M3 \n",
      "    commandQueue = <AGXG15GFamilyCommandQueue: 0x16838fe00>\n",
      "        label = <none> \n",
      "        device = <AGXG15GDevice: 0x1226cea00>\n",
      "            name = Apple M3 \n",
      "    retainedReferences = 1\n",
      "Training:  80%|████████  | 4/5 [02:58<00:44, 44.47s/it]"
     ]
    },
    {
     "name": "stdout",
     "output_type": "stream",
     "text": [
      "Validation Loss for model (2, 0): 0.00\n"
     ]
    },
    {
     "name": "stderr",
     "output_type": "stream",
     "text": [
      "Error: command buffer exited with error status.\n",
      "\tThe Metal Performance Shaders operations encoded on it may not have completed.\n",
      "\tError: \n",
      "\t(null)\n",
      "\tInsufficient Memory (00000008:kIOGPUCommandBufferCallbackErrorOutOfMemory)\n",
      "\t<AGXG15GFamilyCommandBuffer: 0x8590ea1b0>\n",
      "    label = <none> \n",
      "    device = <AGXG15GDevice: 0x1226cea00>\n",
      "        name = Apple M3 \n",
      "    commandQueue = <AGXG15GFamilyCommandQueue: 0x16838fe00>\n",
      "        label = <none> \n",
      "        device = <AGXG15GDevice: 0x1226cea00>\n",
      "            name = Apple M3 \n",
      "    retainedReferences = 1\n"
     ]
    },
    {
     "name": "stdout",
     "output_type": "stream",
     "text": [
      "Epoch 5/5 loss: 0.00\n"
     ]
    },
    {
     "name": "stderr",
     "output_type": "stream",
     "text": [
      "Error: command buffer exited with error status.\n",
      "\tThe Metal Performance Shaders operations encoded on it may not have completed.\n",
      "\tError: \n",
      "\t(null)\n",
      "\tInsufficient Memory (00000008:kIOGPUCommandBufferCallbackErrorOutOfMemory)\n",
      "\t<AGXG15GFamilyCommandBuffer: 0x5831e6c50>\n",
      "    label = <none> \n",
      "    device = <AGXG15GDevice: 0x1226cea00>\n",
      "        name = Apple M3 \n",
      "    commandQueue = <AGXG15GFamilyCommandQueue: 0x16838fe00>\n",
      "        label = <none> \n",
      "        device = <AGXG15GDevice: 0x1226cea00>\n",
      "            name = Apple M3 \n",
      "    retainedReferences = 1\n",
      "Error: command buffer exited with error status.\n",
      "\tThe Metal Performance Shaders operations encoded on it may not have completed.\n",
      "\tError: \n",
      "\t(null)\n",
      "\tInsufficient Memory (00000008:kIOGPUCommandBufferCallbackErrorOutOfMemory)\n",
      "\t<AGXG15GFamilyCommandBuffer: 0x5b955f7f0>\n",
      "    label = <none> \n",
      "    device = <AGXG15GDevice: 0x1226cea00>\n",
      "        name = Apple M3 \n",
      "    commandQueue = <AGXG15GFamilyCommandQueue: 0x16838fe00>\n",
      "        label = <none> \n",
      "        device = <AGXG15GDevice: 0x1226cea00>\n",
      "            name = Apple M3 \n",
      "    retainedReferences = 1\n",
      "Training: 100%|██████████| 5/5 [03:42<00:00, 44.54s/it]\n"
     ]
    },
    {
     "name": "stdout",
     "output_type": "stream",
     "text": [
      "Validation Loss for model (2, 0): 0.00\n"
     ]
    },
    {
     "name": "stderr",
     "output_type": "stream",
     "text": [
      "Training:   0%|          | 0/5 [00:00<?, ?it/s]Error: command buffer exited with error status.\n",
      "\tThe Metal Performance Shaders operations encoded on it may not have completed.\n",
      "\tError: \n",
      "\t(null)\n",
      "\tInsufficient Memory (00000008:kIOGPUCommandBufferCallbackErrorOutOfMemory)\n",
      "\t<AGXG15GFamilyCommandBuffer: 0x5bf563560>\n",
      "    label = <none> \n",
      "    device = <AGXG15GDevice: 0x1226cea00>\n",
      "        name = Apple M3 \n",
      "    commandQueue = <AGXG15GFamilyCommandQueue: 0x16838fe00>\n",
      "        label = <none> \n",
      "        device = <AGXG15GDevice: 0x1226cea00>\n",
      "            name = Apple M3 \n",
      "    retainedReferences = 1\n"
     ]
    },
    {
     "name": "stdout",
     "output_type": "stream",
     "text": [
      "Epoch 1/5 loss: 0.00\n"
     ]
    },
    {
     "name": "stderr",
     "output_type": "stream",
     "text": [
      "Error: command buffer exited with error status.\n",
      "\tThe Metal Performance Shaders operations encoded on it may not have completed.\n",
      "\tError: \n",
      "\t(null)\n",
      "\tInsufficient Memory (00000008:kIOGPUCommandBufferCallbackErrorOutOfMemory)\n",
      "\t<AGXG15GFamilyCommandBuffer: 0x5b7831820>\n",
      "    label = <none> \n",
      "    device = <AGXG15GDevice: 0x1226cea00>\n",
      "        name = Apple M3 \n",
      "    commandQueue = <AGXG15GFamilyCommandQueue: 0x16838fe00>\n",
      "        label = <none> \n",
      "        device = <AGXG15GDevice: 0x1226cea00>\n",
      "            name = Apple M3 \n",
      "    retainedReferences = 1\n",
      "Error: command buffer exited with error status.\n",
      "\tThe Metal Performance Shaders operations encoded on it may not have completed.\n",
      "\tError: \n",
      "\t(null)\n",
      "\tInsufficient Memory (00000008:kIOGPUCommandBufferCallbackErrorOutOfMemory)\n",
      "\t<AGXG15GFamilyCommandBuffer: 0x5b7831820>\n",
      "    label = <none> \n",
      "    device = <AGXG15GDevice: 0x1226cea00>\n",
      "        name = Apple M3 \n",
      "    commandQueue = <AGXG15GFamilyCommandQueue: 0x16838fe00>\n",
      "        label = <none> \n",
      "        device = <AGXG15GDevice: 0x1226cea00>\n",
      "            name = Apple M3 \n",
      "    retainedReferences = 1\n",
      "Training:  20%|██        | 1/5 [00:45<03:00, 45.14s/it]"
     ]
    },
    {
     "name": "stdout",
     "output_type": "stream",
     "text": [
      "Validation Loss for model (2, 1): 0.00\n"
     ]
    },
    {
     "name": "stderr",
     "output_type": "stream",
     "text": [
      "Error: command buffer exited with error status.\n",
      "\tThe Metal Performance Shaders operations encoded on it may not have completed.\n",
      "\tError: \n",
      "\t(null)\n",
      "\tInsufficient Memory (00000008:kIOGPUCommandBufferCallbackErrorOutOfMemory)\n",
      "\t<AGXG15GFamilyCommandBuffer: 0x5c0159790>\n",
      "    label = <none> \n",
      "    device = <AGXG15GDevice: 0x1226cea00>\n",
      "        name = Apple M3 \n",
      "    commandQueue = <AGXG15GFamilyCommandQueue: 0x16838fe00>\n",
      "        label = <none> \n",
      "        device = <AGXG15GDevice: 0x1226cea00>\n",
      "            name = Apple M3 \n",
      "    retainedReferences = 1\n"
     ]
    },
    {
     "name": "stdout",
     "output_type": "stream",
     "text": [
      "Epoch 2/5 loss: 0.00\n"
     ]
    },
    {
     "name": "stderr",
     "output_type": "stream",
     "text": [
      "Error: command buffer exited with error status.\n",
      "\tThe Metal Performance Shaders operations encoded on it may not have completed.\n",
      "\tError: \n",
      "\t(null)\n",
      "\tInsufficient Memory (00000008:kIOGPUCommandBufferCallbackErrorOutOfMemory)\n",
      "\t<AGXG15GFamilyCommandBuffer: 0x807bfbb60>\n",
      "    label = <none> \n",
      "    device = <AGXG15GDevice: 0x1226cea00>\n",
      "        name = Apple M3 \n",
      "    commandQueue = <AGXG15GFamilyCommandQueue: 0x16838fe00>\n",
      "        label = <none> \n",
      "        device = <AGXG15GDevice: 0x1226cea00>\n",
      "            name = Apple M3 \n",
      "    retainedReferences = 1\n",
      "Error: command buffer exited with error status.\n",
      "\tThe Metal Performance Shaders operations encoded on it may not have completed.\n",
      "\tError: \n",
      "\t(null)\n",
      "\tInsufficient Memory (00000008:kIOGPUCommandBufferCallbackErrorOutOfMemory)\n",
      "\t<AGXG15GFamilyCommandBuffer: 0x807bfbb60>\n",
      "    label = <none> \n",
      "    device = <AGXG15GDevice: 0x1226cea00>\n",
      "        name = Apple M3 \n",
      "    commandQueue = <AGXG15GFamilyCommandQueue: 0x16838fe00>\n",
      "        label = <none> \n",
      "        device = <AGXG15GDevice: 0x1226cea00>\n",
      "            name = Apple M3 \n",
      "    retainedReferences = 1\n",
      "Training:  40%|████      | 2/5 [01:29<02:14, 44.89s/it]"
     ]
    },
    {
     "name": "stdout",
     "output_type": "stream",
     "text": [
      "Validation Loss for model (2, 1): 0.00\n"
     ]
    },
    {
     "name": "stderr",
     "output_type": "stream",
     "text": [
      "Error: command buffer exited with error status.\n",
      "\tThe Metal Performance Shaders operations encoded on it may not have completed.\n",
      "\tError: \n",
      "\t(null)\n",
      "\tInsufficient Memory (00000008:kIOGPUCommandBufferCallbackErrorOutOfMemory)\n",
      "\t<AGXG15GFamilyCommandBuffer: 0x91bf11420>\n",
      "    label = <none> \n",
      "    device = <AGXG15GDevice: 0x1226cea00>\n",
      "        name = Apple M3 \n",
      "    commandQueue = <AGXG15GFamilyCommandQueue: 0x16838fe00>\n",
      "        label = <none> \n",
      "        device = <AGXG15GDevice: 0x1226cea00>\n",
      "            name = Apple M3 \n",
      "    retainedReferences = 1\n"
     ]
    },
    {
     "name": "stdout",
     "output_type": "stream",
     "text": [
      "Epoch 3/5 loss: 0.00\n"
     ]
    },
    {
     "name": "stderr",
     "output_type": "stream",
     "text": [
      "Error: command buffer exited with error status.\n",
      "\tThe Metal Performance Shaders operations encoded on it may not have completed.\n",
      "\tError: \n",
      "\t(null)\n",
      "\tInsufficient Memory (00000008:kIOGPUCommandBufferCallbackErrorOutOfMemory)\n",
      "\t<AGXG15GFamilyCommandBuffer: 0x8510790e0>\n",
      "    label = <none> \n",
      "    device = <AGXG15GDevice: 0x1226cea00>\n",
      "        name = Apple M3 \n",
      "    commandQueue = <AGXG15GFamilyCommandQueue: 0x16838fe00>\n",
      "        label = <none> \n",
      "        device = <AGXG15GDevice: 0x1226cea00>\n",
      "            name = Apple M3 \n",
      "    retainedReferences = 1\n",
      "Error: command buffer exited with error status.\n",
      "\tThe Metal Performance Shaders operations encoded on it may not have completed.\n",
      "\tError: \n",
      "\t(null)\n",
      "\tInsufficient Memory (00000008:kIOGPUCommandBufferCallbackErrorOutOfMemory)\n",
      "\t<AGXG15GFamilyCommandBuffer: 0x7adf6d200>\n",
      "    label = <none> \n",
      "    device = <AGXG15GDevice: 0x1226cea00>\n",
      "        name = Apple M3 \n",
      "    commandQueue = <AGXG15GFamilyCommandQueue: 0x16838fe00>\n",
      "        label = <none> \n",
      "        device = <AGXG15GDevice: 0x1226cea00>\n",
      "            name = Apple M3 \n",
      "    retainedReferences = 1\n",
      "Training:  60%|██████    | 3/5 [02:14<01:29, 44.66s/it]"
     ]
    },
    {
     "name": "stdout",
     "output_type": "stream",
     "text": [
      "Validation Loss for model (2, 1): 0.00\n"
     ]
    },
    {
     "name": "stderr",
     "output_type": "stream",
     "text": [
      "Error: command buffer exited with error status.\n",
      "\tThe Metal Performance Shaders operations encoded on it may not have completed.\n",
      "\tError: \n",
      "\t(null)\n",
      "\tInsufficient Memory (00000008:kIOGPUCommandBufferCallbackErrorOutOfMemory)\n",
      "\t<AGXG15GFamilyCommandBuffer: 0x923721320>\n",
      "    label = <none> \n",
      "    device = <AGXG15GDevice: 0x1226cea00>\n",
      "        name = Apple M3 \n",
      "    commandQueue = <AGXG15GFamilyCommandQueue: 0x16838fe00>\n",
      "        label = <none> \n",
      "        device = <AGXG15GDevice: 0x1226cea00>\n",
      "            name = Apple M3 \n",
      "    retainedReferences = 1\n"
     ]
    },
    {
     "name": "stdout",
     "output_type": "stream",
     "text": [
      "Epoch 4/5 loss: 0.00\n"
     ]
    },
    {
     "name": "stderr",
     "output_type": "stream",
     "text": [
      "Error: command buffer exited with error status.\n",
      "\tThe Metal Performance Shaders operations encoded on it may not have completed.\n",
      "\tError: \n",
      "\t(null)\n",
      "\tInsufficient Memory (00000008:kIOGPUCommandBufferCallbackErrorOutOfMemory)\n",
      "\t<AGXG15GFamilyCommandBuffer: 0x806036a00>\n",
      "    label = <none> \n",
      "    device = <AGXG15GDevice: 0x1226cea00>\n",
      "        name = Apple M3 \n",
      "    commandQueue = <AGXG15GFamilyCommandQueue: 0x16838fe00>\n",
      "        label = <none> \n",
      "        device = <AGXG15GDevice: 0x1226cea00>\n",
      "            name = Apple M3 \n",
      "    retainedReferences = 1\n",
      "Error: command buffer exited with error status.\n",
      "\tThe Metal Performance Shaders operations encoded on it may not have completed.\n",
      "\tError: \n",
      "\t(null)\n",
      "\tInsufficient Memory (00000008:kIOGPUCommandBufferCallbackErrorOutOfMemory)\n",
      "\t<AGXG15GFamilyCommandBuffer: 0x79959dfa0>\n",
      "    label = <none> \n",
      "    device = <AGXG15GDevice: 0x1226cea00>\n",
      "        name = Apple M3 \n",
      "    commandQueue = <AGXG15GFamilyCommandQueue: 0x16838fe00>\n",
      "        label = <none> \n",
      "        device = <AGXG15GDevice: 0x1226cea00>\n",
      "            name = Apple M3 \n",
      "    retainedReferences = 1\n",
      "Training:  80%|████████  | 4/5 [02:58<00:44, 44.58s/it]"
     ]
    },
    {
     "name": "stdout",
     "output_type": "stream",
     "text": [
      "Validation Loss for model (2, 1): 0.00\n"
     ]
    },
    {
     "name": "stderr",
     "output_type": "stream",
     "text": [
      "Error: command buffer exited with error status.\n",
      "\tThe Metal Performance Shaders operations encoded on it may not have completed.\n",
      "\tError: \n",
      "\t(null)\n",
      "\tInsufficient Memory (00000008:kIOGPUCommandBufferCallbackErrorOutOfMemory)\n",
      "\t<AGXG15GFamilyCommandBuffer: 0x849363d70>\n",
      "    label = <none> \n",
      "    device = <AGXG15GDevice: 0x1226cea00>\n",
      "        name = Apple M3 \n",
      "    commandQueue = <AGXG15GFamilyCommandQueue: 0x16838fe00>\n",
      "        label = <none> \n",
      "        device = <AGXG15GDevice: 0x1226cea00>\n",
      "            name = Apple M3 \n",
      "    retainedReferences = 1\n"
     ]
    },
    {
     "name": "stdout",
     "output_type": "stream",
     "text": [
      "Epoch 5/5 loss: 0.00\n"
     ]
    },
    {
     "name": "stderr",
     "output_type": "stream",
     "text": [
      "Error: command buffer exited with error status.\n",
      "\tThe Metal Performance Shaders operations encoded on it may not have completed.\n",
      "\tError: \n",
      "\t(null)\n",
      "\tInsufficient Memory (00000008:kIOGPUCommandBufferCallbackErrorOutOfMemory)\n",
      "\t<AGXG15GFamilyCommandBuffer: 0x7af246350>\n",
      "    label = <none> \n",
      "    device = <AGXG15GDevice: 0x1226cea00>\n",
      "        name = Apple M3 \n",
      "    commandQueue = <AGXG15GFamilyCommandQueue: 0x16838fe00>\n",
      "        label = <none> \n",
      "        device = <AGXG15GDevice: 0x1226cea00>\n",
      "            name = Apple M3 \n",
      "    retainedReferences = 1\n",
      "Error: command buffer exited with error status.\n",
      "\tThe Metal Performance Shaders operations encoded on it may not have completed.\n",
      "\tError: \n",
      "\t(null)\n",
      "\tInsufficient Memory (00000008:kIOGPUCommandBufferCallbackErrorOutOfMemory)\n",
      "\t<AGXG15GFamilyCommandBuffer: 0x7af246350>\n",
      "    label = <none> \n",
      "    device = <AGXG15GDevice: 0x1226cea00>\n",
      "        name = Apple M3 \n",
      "    commandQueue = <AGXG15GFamilyCommandQueue: 0x16838fe00>\n",
      "        label = <none> \n",
      "        device = <AGXG15GDevice: 0x1226cea00>\n",
      "            name = Apple M3 \n",
      "    retainedReferences = 1\n",
      "Training: 100%|██████████| 5/5 [03:43<00:00, 44.63s/it]\n"
     ]
    },
    {
     "name": "stdout",
     "output_type": "stream",
     "text": [
      "Validation Loss for model (2, 1): 0.00\n"
     ]
    },
    {
     "name": "stderr",
     "output_type": "stream",
     "text": [
      "Training:   0%|          | 0/5 [00:00<?, ?it/s]Error: command buffer exited with error status.\n",
      "\tThe Metal Performance Shaders operations encoded on it may not have completed.\n",
      "\tError: \n",
      "\t(null)\n",
      "\tInsufficient Memory (00000008:kIOGPUCommandBufferCallbackErrorOutOfMemory)\n",
      "\t<AGXG15GFamilyCommandBuffer: 0x800073ff0>\n",
      "    label = <none> \n",
      "    device = <AGXG15GDevice: 0x1226cea00>\n",
      "        name = Apple M3 \n",
      "    commandQueue = <AGXG15GFamilyCommandQueue: 0x16838fe00>\n",
      "        label = <none> \n",
      "        device = <AGXG15GDevice: 0x1226cea00>\n",
      "            name = Apple M3 \n",
      "    retainedReferences = 1\n"
     ]
    },
    {
     "name": "stdout",
     "output_type": "stream",
     "text": [
      "Epoch 1/5 loss: 0.00\n"
     ]
    },
    {
     "name": "stderr",
     "output_type": "stream",
     "text": [
      "Error: command buffer exited with error status.\n",
      "\tThe Metal Performance Shaders operations encoded on it may not have completed.\n",
      "\tError: \n",
      "\t(null)\n",
      "\tInsufficient Memory (00000008:kIOGPUCommandBufferCallbackErrorOutOfMemory)\n",
      "\t<AGXG15GFamilyCommandBuffer: 0x917ea2240>\n",
      "    label = <none> \n",
      "    device = <AGXG15GDevice: 0x1226cea00>\n",
      "        name = Apple M3 \n",
      "    commandQueue = <AGXG15GFamilyCommandQueue: 0x16838fe00>\n",
      "        label = <none> \n",
      "        device = <AGXG15GDevice: 0x1226cea00>\n",
      "            name = Apple M3 \n",
      "    retainedReferences = 1\n",
      "Error: command buffer exited with error status.\n",
      "\tThe Metal Performance Shaders operations encoded on it may not have completed.\n",
      "\tError: \n",
      "\t(null)\n",
      "\tInsufficient Memory (00000008:kIOGPUCommandBufferCallbackErrorOutOfMemory)\n",
      "\t<AGXG15GFamilyCommandBuffer: 0x5d0c9b270>\n",
      "    label = <none> \n",
      "    device = <AGXG15GDevice: 0x1226cea00>\n",
      "        name = Apple M3 \n",
      "    commandQueue = <AGXG15GFamilyCommandQueue: 0x16838fe00>\n",
      "        label = <none> \n",
      "        device = <AGXG15GDevice: 0x1226cea00>\n",
      "            name = Apple M3 \n",
      "    retainedReferences = 1\n",
      "Training:  20%|██        | 1/5 [00:45<03:02, 45.75s/it]"
     ]
    },
    {
     "name": "stdout",
     "output_type": "stream",
     "text": [
      "Validation Loss for model (2, 2): 0.00\n"
     ]
    },
    {
     "name": "stderr",
     "output_type": "stream",
     "text": [
      "Error: command buffer exited with error status.\n",
      "\tThe Metal Performance Shaders operations encoded on it may not have completed.\n",
      "\tError: \n",
      "\t(null)\n",
      "\tInsufficient Memory (00000008:kIOGPUCommandBufferCallbackErrorOutOfMemory)\n",
      "\t<AGXG15GFamilyCommandBuffer: 0x993505a30>\n",
      "    label = <none> \n",
      "    device = <AGXG15GDevice: 0x1226cea00>\n",
      "        name = Apple M3 \n",
      "    commandQueue = <AGXG15GFamilyCommandQueue: 0x16838fe00>\n",
      "        label = <none> \n",
      "        device = <AGXG15GDevice: 0x1226cea00>\n",
      "            name = Apple M3 \n",
      "    retainedReferences = 1\n"
     ]
    },
    {
     "name": "stdout",
     "output_type": "stream",
     "text": [
      "Epoch 2/5 loss: 0.00\n"
     ]
    },
    {
     "name": "stderr",
     "output_type": "stream",
     "text": [
      "Error: command buffer exited with error status.\n",
      "\tThe Metal Performance Shaders operations encoded on it may not have completed.\n",
      "\tError: \n",
      "\t(null)\n",
      "\tInsufficient Memory (00000008:kIOGPUCommandBufferCallbackErrorOutOfMemory)\n",
      "\t<AGXG15GFamilyCommandBuffer: 0x78bae2ad0>\n",
      "    label = <none> \n",
      "    device = <AGXG15GDevice: 0x1226cea00>\n",
      "        name = Apple M3 \n",
      "    commandQueue = <AGXG15GFamilyCommandQueue: 0x16838fe00>\n",
      "        label = <none> \n",
      "        device = <AGXG15GDevice: 0x1226cea00>\n",
      "            name = Apple M3 \n",
      "    retainedReferences = 1\n",
      "Error: command buffer exited with error status.\n",
      "\tThe Metal Performance Shaders operations encoded on it may not have completed.\n",
      "\tError: \n",
      "\t(null)\n",
      "\tInsufficient Memory (00000008:kIOGPUCommandBufferCallbackErrorOutOfMemory)\n",
      "\t<AGXG15GFamilyCommandBuffer: 0x8073d1670>\n",
      "    label = <none> \n",
      "    device = <AGXG15GDevice: 0x1226cea00>\n",
      "        name = Apple M3 \n",
      "    commandQueue = <AGXG15GFamilyCommandQueue: 0x16838fe00>\n",
      "        label = <none> \n",
      "        device = <AGXG15GDevice: 0x1226cea00>\n",
      "            name = Apple M3 \n",
      "    retainedReferences = 1\n",
      "Training:  40%|████      | 2/5 [01:30<02:16, 45.39s/it]"
     ]
    },
    {
     "name": "stdout",
     "output_type": "stream",
     "text": [
      "Validation Loss for model (2, 2): 0.00\n"
     ]
    },
    {
     "name": "stderr",
     "output_type": "stream",
     "text": [
      "Error: command buffer exited with error status.\n",
      "\tThe Metal Performance Shaders operations encoded on it may not have completed.\n",
      "\tError: \n",
      "\t(null)\n",
      "\tInsufficient Memory (00000008:kIOGPUCommandBufferCallbackErrorOutOfMemory)\n",
      "\t<AGXG15GFamilyCommandBuffer: 0x5bff63f90>\n",
      "    label = <none> \n",
      "    device = <AGXG15GDevice: 0x1226cea00>\n",
      "        name = Apple M3 \n",
      "    commandQueue = <AGXG15GFamilyCommandQueue: 0x16838fe00>\n",
      "        label = <none> \n",
      "        device = <AGXG15GDevice: 0x1226cea00>\n",
      "            name = Apple M3 \n",
      "    retainedReferences = 1\n"
     ]
    },
    {
     "name": "stdout",
     "output_type": "stream",
     "text": [
      "Epoch 3/5 loss: 0.00\n"
     ]
    },
    {
     "name": "stderr",
     "output_type": "stream",
     "text": [
      "Error: command buffer exited with error status.\n",
      "\tThe Metal Performance Shaders operations encoded on it may not have completed.\n",
      "\tError: \n",
      "\t(null)\n",
      "\tInsufficient Memory (00000008:kIOGPUCommandBufferCallbackErrorOutOfMemory)\n",
      "\t<AGXG15GFamilyCommandBuffer: 0x79c5508d0>\n",
      "    label = <none> \n",
      "    device = <AGXG15GDevice: 0x1226cea00>\n",
      "        name = Apple M3 \n",
      "    commandQueue = <AGXG15GFamilyCommandQueue: 0x16838fe00>\n",
      "        label = <none> \n",
      "        device = <AGXG15GDevice: 0x1226cea00>\n",
      "            name = Apple M3 \n",
      "    retainedReferences = 1\n",
      "Error: command buffer exited with error status.\n",
      "\tThe Metal Performance Shaders operations encoded on it may not have completed.\n",
      "\tError: \n",
      "\t(null)\n",
      "\tInsufficient Memory (00000008:kIOGPUCommandBufferCallbackErrorOutOfMemory)\n",
      "\t<AGXG15GFamilyCommandBuffer: 0x8553a9930>\n",
      "    label = <none> \n",
      "    device = <AGXG15GDevice: 0x1226cea00>\n",
      "        name = Apple M3 \n",
      "    commandQueue = <AGXG15GFamilyCommandQueue: 0x16838fe00>\n",
      "        label = <none> \n",
      "        device = <AGXG15GDevice: 0x1226cea00>\n",
      "            name = Apple M3 \n",
      "    retainedReferences = 1\n",
      "Training:  60%|██████    | 3/5 [02:15<01:29, 44.97s/it]"
     ]
    },
    {
     "name": "stdout",
     "output_type": "stream",
     "text": [
      "Validation Loss for model (2, 2): 0.00\n"
     ]
    },
    {
     "name": "stderr",
     "output_type": "stream",
     "text": [
      "Error: command buffer exited with error status.\n",
      "\tThe Metal Performance Shaders operations encoded on it may not have completed.\n",
      "\tError: \n",
      "\t(null)\n",
      "\tInsufficient Memory (00000008:kIOGPUCommandBufferCallbackErrorOutOfMemory)\n",
      "\t<AGXG15GFamilyCommandBuffer: 0x786e3e4a0>\n",
      "    label = <none> \n",
      "    device = <AGXG15GDevice: 0x1226cea00>\n",
      "        name = Apple M3 \n",
      "    commandQueue = <AGXG15GFamilyCommandQueue: 0x16838fe00>\n",
      "        label = <none> \n",
      "        device = <AGXG15GDevice: 0x1226cea00>\n",
      "            name = Apple M3 \n",
      "    retainedReferences = 1\n"
     ]
    },
    {
     "name": "stdout",
     "output_type": "stream",
     "text": [
      "Epoch 4/5 loss: 0.00\n"
     ]
    },
    {
     "name": "stderr",
     "output_type": "stream",
     "text": [
      "Error: command buffer exited with error status.\n",
      "\tThe Metal Performance Shaders operations encoded on it may not have completed.\n",
      "\tError: \n",
      "\t(null)\n",
      "\tInsufficient Memory (00000008:kIOGPUCommandBufferCallbackErrorOutOfMemory)\n",
      "\t<AGXG15GFamilyCommandBuffer: 0x7a3d9f550>\n",
      "    label = <none> \n",
      "    device = <AGXG15GDevice: 0x1226cea00>\n",
      "        name = Apple M3 \n",
      "    commandQueue = <AGXG15GFamilyCommandQueue: 0x16838fe00>\n",
      "        label = <none> \n",
      "        device = <AGXG15GDevice: 0x1226cea00>\n",
      "            name = Apple M3 \n",
      "    retainedReferences = 1\n",
      "Error: command buffer exited with error status.\n",
      "\tThe Metal Performance Shaders operations encoded on it may not have completed.\n",
      "\tError: \n",
      "\t(null)\n",
      "\tInsufficient Memory (00000008:kIOGPUCommandBufferCallbackErrorOutOfMemory)\n",
      "\t<AGXG15GFamilyCommandBuffer: 0x849e7f2b0>\n",
      "    label = <none> \n",
      "    device = <AGXG15GDevice: 0x1226cea00>\n",
      "        name = Apple M3 \n",
      "    commandQueue = <AGXG15GFamilyCommandQueue: 0x16838fe00>\n",
      "        label = <none> \n",
      "        device = <AGXG15GDevice: 0x1226cea00>\n",
      "            name = Apple M3 \n",
      "    retainedReferences = 1\n",
      "Training:  80%|████████  | 4/5 [03:00<00:44, 44.93s/it]"
     ]
    },
    {
     "name": "stdout",
     "output_type": "stream",
     "text": [
      "Validation Loss for model (2, 2): 0.00\n"
     ]
    },
    {
     "name": "stderr",
     "output_type": "stream",
     "text": [
      "Error: command buffer exited with error status.\n",
      "\tThe Metal Performance Shaders operations encoded on it may not have completed.\n",
      "\tError: \n",
      "\t(null)\n",
      "\tInsufficient Memory (00000008:kIOGPUCommandBufferCallbackErrorOutOfMemory)\n",
      "\t<AGXG15GFamilyCommandBuffer: 0x994906760>\n",
      "    label = <none> \n",
      "    device = <AGXG15GDevice: 0x1226cea00>\n",
      "        name = Apple M3 \n",
      "    commandQueue = <AGXG15GFamilyCommandQueue: 0x16838fe00>\n",
      "        label = <none> \n",
      "        device = <AGXG15GDevice: 0x1226cea00>\n",
      "            name = Apple M3 \n",
      "    retainedReferences = 1\n"
     ]
    },
    {
     "name": "stdout",
     "output_type": "stream",
     "text": [
      "Epoch 5/5 loss: 0.00\n"
     ]
    },
    {
     "name": "stderr",
     "output_type": "stream",
     "text": [
      "Error: command buffer exited with error status.\n",
      "\tThe Metal Performance Shaders operations encoded on it may not have completed.\n",
      "\tError: \n",
      "\t(null)\n",
      "\tInsufficient Memory (00000008:kIOGPUCommandBufferCallbackErrorOutOfMemory)\n",
      "\t<AGXG15GFamilyCommandBuffer: 0x79b260290>\n",
      "    label = <none> \n",
      "    device = <AGXG15GDevice: 0x1226cea00>\n",
      "        name = Apple M3 \n",
      "    commandQueue = <AGXG15GFamilyCommandQueue: 0x16838fe00>\n",
      "        label = <none> \n",
      "        device = <AGXG15GDevice: 0x1226cea00>\n",
      "            name = Apple M3 \n",
      "    retainedReferences = 1\n",
      "Error: command buffer exited with error status.\n",
      "\tThe Metal Performance Shaders operations encoded on it may not have completed.\n",
      "\tError: \n",
      "\t(null)\n",
      "\tInsufficient Memory (00000008:kIOGPUCommandBufferCallbackErrorOutOfMemory)\n",
      "\t<AGXG15GFamilyCommandBuffer: 0x922b96690>\n",
      "    label = <none> \n",
      "    device = <AGXG15GDevice: 0x1226cea00>\n",
      "        name = Apple M3 \n",
      "    commandQueue = <AGXG15GFamilyCommandQueue: 0x16838fe00>\n",
      "        label = <none> \n",
      "        device = <AGXG15GDevice: 0x1226cea00>\n",
      "            name = Apple M3 \n",
      "    retainedReferences = 1\n",
      "Training: 100%|██████████| 5/5 [03:44<00:00, 44.98s/it]\n"
     ]
    },
    {
     "name": "stdout",
     "output_type": "stream",
     "text": [
      "Validation Loss for model (2, 2): 0.00\n"
     ]
    },
    {
     "name": "stderr",
     "output_type": "stream",
     "text": [
      "Training:   0%|          | 0/5 [00:00<?, ?it/s]Error: command buffer exited with error status.\n",
      "\tThe Metal Performance Shaders operations encoded on it may not have completed.\n",
      "\tError: \n",
      "\t(null)\n",
      "\tInsufficient Memory (00000008:kIOGPUCommandBufferCallbackErrorOutOfMemory)\n",
      "\t<AGXG15GFamilyCommandBuffer: 0x9939bb0a0>\n",
      "    label = <none> \n",
      "    device = <AGXG15GDevice: 0x1226cea00>\n",
      "        name = Apple M3 \n",
      "    commandQueue = <AGXG15GFamilyCommandQueue: 0x16838fe00>\n",
      "        label = <none> \n",
      "        device = <AGXG15GDevice: 0x1226cea00>\n",
      "            name = Apple M3 \n",
      "    retainedReferences = 1\n"
     ]
    },
    {
     "name": "stdout",
     "output_type": "stream",
     "text": [
      "Epoch 1/5 loss: 0.00\n"
     ]
    },
    {
     "name": "stderr",
     "output_type": "stream",
     "text": [
      "Error: command buffer exited with error status.\n",
      "\tThe Metal Performance Shaders operations encoded on it may not have completed.\n",
      "\tError: \n",
      "\t(null)\n",
      "\tInsufficient Memory (00000008:kIOGPUCommandBufferCallbackErrorOutOfMemory)\n",
      "\t<AGXG15GFamilyCommandBuffer: 0x7b0b829a0>\n",
      "    label = <none> \n",
      "    device = <AGXG15GDevice: 0x1226cea00>\n",
      "        name = Apple M3 \n",
      "    commandQueue = <AGXG15GFamilyCommandQueue: 0x16838fe00>\n",
      "        label = <none> \n",
      "        device = <AGXG15GDevice: 0x1226cea00>\n",
      "            name = Apple M3 \n",
      "    retainedReferences = 1\n",
      "Error: command buffer exited with error status.\n",
      "\tThe Metal Performance Shaders operations encoded on it may not have completed.\n",
      "\tError: \n",
      "\t(null)\n",
      "\tInsufficient Memory (00000008:kIOGPUCommandBufferCallbackErrorOutOfMemory)\n",
      "\t<AGXG15GFamilyCommandBuffer: 0x799c0e4b0>\n",
      "    label = <none> \n",
      "    device = <AGXG15GDevice: 0x1226cea00>\n",
      "        name = Apple M3 \n",
      "    commandQueue = <AGXG15GFamilyCommandQueue: 0x16838fe00>\n",
      "        label = <none> \n",
      "        device = <AGXG15GDevice: 0x1226cea00>\n",
      "            name = Apple M3 \n",
      "    retainedReferences = 1\n",
      "Training:  20%|██        | 1/5 [00:46<03:06, 46.69s/it]"
     ]
    },
    {
     "name": "stdout",
     "output_type": "stream",
     "text": [
      "Validation Loss for model (2, 3): 0.00\n"
     ]
    },
    {
     "name": "stderr",
     "output_type": "stream",
     "text": [
      "Error: command buffer exited with error status.\n",
      "\tThe Metal Performance Shaders operations encoded on it may not have completed.\n",
      "\tError: \n",
      "\t(null)\n",
      "\tInsufficient Memory (00000008:kIOGPUCommandBufferCallbackErrorOutOfMemory)\n",
      "\t<AGXG15GFamilyCommandBuffer: 0x850ff75b0>\n",
      "    label = <none> \n",
      "    device = <AGXG15GDevice: 0x1226cea00>\n",
      "        name = Apple M3 \n",
      "    commandQueue = <AGXG15GFamilyCommandQueue: 0x16838fe00>\n",
      "        label = <none> \n",
      "        device = <AGXG15GDevice: 0x1226cea00>\n",
      "            name = Apple M3 \n",
      "    retainedReferences = 1\n"
     ]
    }
   ],
   "source": [
    "if __name__ == \"__main__\":\n",
    "    main()"
   ]
  }
 ],
 "metadata": {
  "kernelspec": {
   "display_name": "DML",
   "language": "python",
   "name": "python3"
  },
  "language_info": {
   "codemirror_mode": {
    "name": "ipython",
    "version": 3
   },
   "file_extension": ".py",
   "mimetype": "text/x-python",
   "name": "python",
   "nbconvert_exporter": "python",
   "pygments_lexer": "ipython3",
   "version": "3.12.6"
  }
 },
 "nbformat": 4,
 "nbformat_minor": 2
}
